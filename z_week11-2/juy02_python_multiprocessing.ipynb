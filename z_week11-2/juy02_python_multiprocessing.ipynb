{
  "nbformat": 4,
  "nbformat_minor": 0,
  "metadata": {
    "colab": {
      "provenance": [],
      "collapsed_sections": [
        "XKh72AXP5hHf",
        "Vw8eZc07-AtY",
        "tICgq8sG-Gl3",
        "OrGs-DvsIl_g",
        "KN0YJDizIj_Y"
      ]
    },
    "kernelspec": {
      "name": "python3",
      "display_name": "Python 3"
    },
    "language_info": {
      "name": "python"
    }
  },
  "cells": [
    {
      "cell_type": "markdown",
      "source": [
        "# 0. Import\n",
        "* multiprocessing: 멀티프로세싱을 사용하여 여러 프로세스를 동시에 실행할 수 있게 도와줍니다. CPU-bound 작업에 유리하죠.\n",
        "\n",
        "* subprocess: 외부 프로세스를 생성하고, 입력을 보내거나 출력을 받는 등 다른 프로세스를 실행할 때 사용합니다. 쉘 명령어를 실행할 때 자주 사용됩니다.\n",
        "\n",
        "* threading: 멀티스레딩을 사용하여 여러 작업을 동시에 처리할 수 있게 도와줍니다. I/O-bound 작업에 유리하죠."
      ],
      "metadata": {
        "id": "XKh72AXP5hHf"
      }
    },
    {
      "cell_type": "code",
      "source": [
        "import multiprocessing\n",
        "import subprocess\n",
        "import threading"
      ],
      "metadata": {
        "id": "NMIog69R4M3c"
      },
      "execution_count": 1,
      "outputs": []
    },
    {
      "cell_type": "markdown",
      "source": [
        "# 1. Multiprocessing 기초\n",
        "파이썬 자체에서. GIL(global interpreter lock) 상관없음\n",
        "\n",
        "파이썬에서 병렬처리용으로.\n",
        "\n",
        "파이프, 매니저 등 다양한 tool을 제공하며, subprocess와 둘이 비슷한 정도의 무게(?)임"
      ],
      "metadata": {
        "id": "Vw8eZc07-AtY"
      }
    },
    {
      "cell_type": "code",
      "execution_count": 2,
      "metadata": {
        "id": "SnDoRlhNxjwD"
      },
      "outputs": [],
      "source": [
        "def proc_0 (num):\n",
        "  print(f\"proc {num = } running\")"
      ]
    },
    {
      "cell_type": "code",
      "source": [
        "procs = [ multiprocessing.Process(target=proc_0, args=(idx, )) for idx in  range(5)]\n",
        "procs"
      ],
      "metadata": {
        "id": "ZXTxhuhN33Y0",
        "colab": {
          "base_uri": "https://localhost:8080/"
        },
        "outputId": "0eb6b71f-4084-4705-ca9e-785e02af451b"
      },
      "execution_count": 5,
      "outputs": [
        {
          "output_type": "execute_result",
          "data": {
            "text/plain": [
              "[<Process name='Process-6' parent=1058 initial>,\n",
              " <Process name='Process-7' parent=1058 initial>,\n",
              " <Process name='Process-8' parent=1058 initial>,\n",
              " <Process name='Process-9' parent=1058 initial>,\n",
              " <Process name='Process-10' parent=1058 initial>]"
            ]
          },
          "metadata": {},
          "execution_count": 5
        }
      ]
    },
    {
      "cell_type": "code",
      "source": [
        "for p in procs:\n",
        "  p.start()\n",
        "\n",
        "for proc in procs:\n",
        "  p.join()"
      ],
      "metadata": {
        "colab": {
          "base_uri": "https://localhost:8080/"
        },
        "id": "K5nYTNbz5tbH",
        "outputId": "f8eb5878-b235-4c5c-b333-6fbe34f9c54b"
      },
      "execution_count": 11,
      "outputs": [
        {
          "output_type": "stream",
          "name": "stdout",
          "text": [
            "proc num = 0 running\n",
            "proc num = 1 running\n",
            "proc num = 2 running\n",
            "proc num = 3 running\n",
            "proc num = 4 running\n"
          ]
        }
      ]
    },
    {
      "cell_type": "code",
      "source": [
        "multiprocessing.Process(\n",
        "   target = proc_0,\n",
        "   args = (1, )\n",
        ")"
      ],
      "metadata": {
        "colab": {
          "base_uri": "https://localhost:8080/"
        },
        "id": "aDktgkD784lG",
        "outputId": "4ed45852-9e5e-480d-ee32-a8a0db9976d1"
      },
      "execution_count": 12,
      "outputs": [
        {
          "output_type": "execute_result",
          "data": {
            "text/plain": [
              "<Process name='Process-12' parent=1058 initial>"
            ]
          },
          "metadata": {},
          "execution_count": 12
        }
      ]
    },
    {
      "cell_type": "code",
      "source": [
        "dir(multiprocessing)"
      ],
      "metadata": {
        "colab": {
          "base_uri": "https://localhost:8080/"
        },
        "id": "AdeuasB69r-X",
        "outputId": "ccb80883-be7b-4ce5-f97a-e7575f8f56b7"
      },
      "execution_count": 13,
      "outputs": [
        {
          "output_type": "execute_result",
          "data": {
            "text/plain": [
              "['Array',\n",
              " 'AuthenticationError',\n",
              " 'Barrier',\n",
              " 'BoundedSemaphore',\n",
              " 'BufferTooShort',\n",
              " 'Condition',\n",
              " 'Event',\n",
              " 'JoinableQueue',\n",
              " 'Lock',\n",
              " 'Manager',\n",
              " 'Pipe',\n",
              " 'Pool',\n",
              " 'Process',\n",
              " 'ProcessError',\n",
              " 'Queue',\n",
              " 'RLock',\n",
              " 'RawArray',\n",
              " 'RawValue',\n",
              " 'SUBDEBUG',\n",
              " 'SUBWARNING',\n",
              " 'Semaphore',\n",
              " 'SimpleQueue',\n",
              " 'TimeoutError',\n",
              " 'Value',\n",
              " '__all__',\n",
              " '__builtins__',\n",
              " '__cached__',\n",
              " '__doc__',\n",
              " '__file__',\n",
              " '__loader__',\n",
              " '__name__',\n",
              " '__package__',\n",
              " '__path__',\n",
              " '__spec__',\n",
              " 'active_children',\n",
              " 'allow_connection_pickling',\n",
              " 'context',\n",
              " 'cpu_count',\n",
              " 'current_process',\n",
              " 'freeze_support',\n",
              " 'get_all_start_methods',\n",
              " 'get_context',\n",
              " 'get_logger',\n",
              " 'get_start_method',\n",
              " 'log_to_stderr',\n",
              " 'parent_process',\n",
              " 'popen_fork',\n",
              " 'process',\n",
              " 'reducer',\n",
              " 'reduction',\n",
              " 'set_executable',\n",
              " 'set_forkserver_preload',\n",
              " 'set_start_method',\n",
              " 'sys',\n",
              " 'util']"
            ]
          },
          "metadata": {},
          "execution_count": 13
        }
      ]
    },
    {
      "cell_type": "markdown",
      "source": [
        "1. Event\n",
        "\n",
        "Event 객체는 프로세스 간의 신호 전달을 처리하는 데 사용됩니다. 주로 한 프로세스가 다른 프로세스에게 특정 작업을 시작하도록 신호를 보내는 데 활용됩니다.\n",
        "\n",
        "주요 특징:\n",
        "\n",
        "Event는 기본적으로 클리어 상태로 시작합니다.\n",
        "\n",
        "set() 메서드를 호출하면 설정된 상태로 변하고, clear()를 호출하면 클리어 상태로 돌아갑니다.\n",
        "\n",
        "다른 프로세스들은 wait() 메서드를 통해 이벤트가 설정될 때까지 대기할 수 있습니다."
      ],
      "metadata": {
        "id": "0RtJ8bkF_Nan"
      }
    },
    {
      "cell_type": "markdown",
      "source": [
        "--------------------------------------------"
      ],
      "metadata": {
        "id": "z_F5OqxhAAnf"
      }
    },
    {
      "cell_type": "markdown",
      "source": [
        "2. Lock\n",
        "\n",
        "Lock은 상호 배제(Mutex) 객체로, 한 번에 하나의 프로세스만 공유 자원에 접근할 수 있도록 보장합니다. 여러 프로세스가 동일한 자원에 동시에 접근할 경우 **경쟁 조건(race condition)**이 발생할 수 있는데, Lock을 사용하여 이를 방지합니다.\n",
        "\n",
        "주요 특징:\n",
        "\n",
        "acquire() 메서드를 호출하여 락을 획득하고, release() 메서드를 호출하여 락을 해제합니다.\n",
        "\n",
        "Lock은 기본적으로 해제된 상태로 시작합니다."
      ],
      "metadata": {
        "id": "LByuIiPf_1mv"
      }
    },
    {
      "cell_type": "markdown",
      "source": [
        "--------------------------------------------"
      ],
      "metadata": {
        "id": "0Kh5IWbwAC2P"
      }
    },
    {
      "cell_type": "markdown",
      "source": [
        "3. Manager\n",
        "\n",
        "Manager는 멀티프로세싱 환경에서 객체를 공유할 수 있게 해주는 관리 객체입니다. Manager를 사용하면 리스트, 딕셔너리, 큐와 같은 공유 가능한 객체를 여러 프로세스 간에 안전하게 공유할 수 있습니다.\n",
        "\n",
        "주요 특징:\n",
        "\n",
        "Manager는 프로세스 간 공유 객체를 안전하게 만들 수 있게 도와줍니다.\n",
        "\n",
        "Manager로 생성한 객체는 프로세스 간 동기화가 자동으로 이루어집니다."
      ],
      "metadata": {
        "id": "HRGctayU_6uA"
      }
    },
    {
      "cell_type": "markdown",
      "source": [
        "--------------------------------------------"
      ],
      "metadata": {
        "id": "4GL3vA9fAD3n"
      }
    },
    {
      "cell_type": "markdown",
      "source": [
        "4. Value\n",
        "\n",
        "Value는 단일 값을 여러 프로세스 간에 공유할 수 있게 하는 객체입니다. Value는 multiprocessing.Value 클래스를 사용하여 생성하며, 주로 수치 데이터나 단일 변수를 여러 프로세스가 공유해야 할 때 유용합니다.\n",
        "\n",
        "주요 특징:\n",
        "\n",
        "Value는 단일 변수를 여러 프로세스 간에 공유하는 데 사용됩니다.\n",
        "\n",
        "Value를 사용할 때는 lock을 사용하여 동기화해야 할 수도 있습니다."
      ],
      "metadata": {
        "id": "MdNxNauB_9gf"
      }
    },
    {
      "cell_type": "markdown",
      "source": [
        "**QProcess의 주요 기능**:\n",
        "\n",
        "**외부 프로세스 실행:**\n",
        "\n",
        "QProcess는 시스템에서 명령을 실행할 수 있게 해줍니다. 예를 들어, 쉘 명령어를 실행하거나 다른 프로그램을 실행할 수 있습니다.\n",
        "\n",
        "**입출력 스트림 관리:**\n",
        "\n",
        "실행한 프로세스의 표준 출력 (stdout), 표준 입력 (stdin), 표준 오류 (stderr) 를 다룰 수 있습니다. 이를 통해 외부 프로세스와 데이터를 주고받거나 결과를 받을 수 있습니다.\n",
        "\n",
        "**비동기 실행:**\n",
        "\n",
        "QProcess는 비동기적으로 외부 프로세스를 실행할 수 있기 때문에, GUI 애플리케이션에서 사용자 인터페이스가 멈추지 않고 계속 반응할 수 있게 도와줍니다. 즉, 외부 프로세스가 실행되는 동안에도 다른 작업을 계속할 수 있습니다.\n",
        "\n",
        "**프로세스 종료와 상태 관리:**\n",
        "\n",
        "프로세스가 종료되었을 때의 상태를 확인하고, 종료 코드를 얻을 수 있습니다."
      ],
      "metadata": {
        "id": "1GWAZyJGAXC_"
      }
    },
    {
      "cell_type": "markdown",
      "source": [
        "# 2. Subprocess 기초\n",
        "파이썬이 아닌 외부 프로그램을 위한. 얘도 GIL(global interpreter lock) 상관없음\n",
        "\n",
        "입력, 출력, 에러만 다룸. = 캡처\n",
        "\n",
        "파이썬에서 그리 잘안쓰임\n",
        "\n"
      ],
      "metadata": {
        "id": "tICgq8sG-Gl3"
      }
    },
    {
      "cell_type": "markdown",
      "source": [
        "만약 어느 작업이 2,3시간이 걸리다면 py에서 이를 큐에서 기다리다가 끝나면, 끝났음을 신호로 보내 업데이트를 함."
      ],
      "metadata": {
        "id": "G0KkkIOL-W43"
      }
    },
    {
      "cell_type": "code",
      "source": [
        "!ls -l"
      ],
      "metadata": {
        "colab": {
          "base_uri": "https://localhost:8080/"
        },
        "id": "yukaMEP0-J6o",
        "outputId": "f14d9138-86dc-4af8-fc87-92ad4a40bde8"
      },
      "execution_count": 14,
      "outputs": [
        {
          "output_type": "stream",
          "name": "stdout",
          "text": [
            "total 4\n",
            "drwxr-xr-x 1 root root 4096 May 14 13:38 sample_data\n"
          ]
        }
      ]
    },
    {
      "cell_type": "code",
      "source": [
        "import subprocess\n",
        "\n",
        "results = subprocess.run(\n",
        "    [\"ls\", \"-l\"], # 이 부분이 필수 arg임. ls라는 명령어를 실행하고 -l이라는 쇼컷을 함.\n",
        "    capture_output=True, # output을 캡처링함.\n",
        "    text=True, # str로 바로 가져옴.\n",
        ")"
      ],
      "metadata": {
        "id": "ZLNXHrTxBAJo"
      },
      "execution_count": 16,
      "outputs": []
    },
    {
      "cell_type": "markdown",
      "source": [
        "이전의 통신에선 바이너리 데이터를 다루는 \"bytes(immutable)\"로 했었음.\n",
        "\n",
        "\"bytearray\" 라는 것도 있었는데 이는 mutable함"
      ],
      "metadata": {
        "id": "yJ7APA05Bqwo"
      }
    },
    {
      "cell_type": "markdown",
      "source": [
        "encoder는 코드(2진수, binary)로 만드는 것 / decoder는 역과정.\n",
        "\n",
        "즉, text=Ture는 디코더 역할로 str문자열로 받아냄. False로 하면 인코더로 문자열을 binary화시킴"
      ],
      "metadata": {
        "id": "kwiHIhjWB3lX"
      }
    },
    {
      "cell_type": "code",
      "source": [
        "type(results)"
      ],
      "metadata": {
        "colab": {
          "base_uri": "https://localhost:8080/",
          "height": 187
        },
        "id": "RaWMxG4uBFxD",
        "outputId": "dba909c9-f9f5-45b1-fe07-8e420647a6fe"
      },
      "execution_count": 17,
      "outputs": [
        {
          "output_type": "execute_result",
          "data": {
            "text/plain": [
              "subprocess.CompletedProcess"
            ],
            "text/html": [
              "<div style=\"max-width:800px; border: 1px solid var(--colab-border-color);\"><style>\n",
              "      pre.function-repr-contents {\n",
              "        overflow-x: auto;\n",
              "        padding: 8px 12px;\n",
              "        max-height: 500px;\n",
              "      }\n",
              "\n",
              "      pre.function-repr-contents.function-repr-contents-collapsed {\n",
              "        cursor: pointer;\n",
              "        max-height: 100px;\n",
              "      }\n",
              "    </style>\n",
              "    <pre style=\"white-space: initial; background:\n",
              "         var(--colab-secondary-surface-color); padding: 8px 12px;\n",
              "         border-bottom: 1px solid var(--colab-border-color);\"><b>subprocess.CompletedProcess</b><br/>def __init__(args, returncode, stdout=None, stderr=None)</pre><pre class=\"function-repr-contents function-repr-contents-collapsed\" style=\"\"><a class=\"filepath\" style=\"display:none\" href=\"#\">/usr/lib/python3.11/subprocess.py</a>A process that has finished running.\n",
              "\n",
              "This is returned by run().\n",
              "\n",
              "Attributes:\n",
              "  args: The list or str args passed to run().\n",
              "  returncode: The exit code of the process, negative for signals.\n",
              "  stdout: The standard output (None if not captured).\n",
              "  stderr: The standard error (None if not captured).</pre>\n",
              "      <script>\n",
              "      if (google.colab.kernel.accessAllowed && google.colab.files && google.colab.files.view) {\n",
              "        for (const element of document.querySelectorAll('.filepath')) {\n",
              "          element.style.display = 'block'\n",
              "          element.onclick = (event) => {\n",
              "            event.preventDefault();\n",
              "            event.stopPropagation();\n",
              "            google.colab.files.view(element.textContent, 470);\n",
              "          };\n",
              "        }\n",
              "      }\n",
              "      for (const element of document.querySelectorAll('.function-repr-contents')) {\n",
              "        element.onclick = (event) => {\n",
              "          event.preventDefault();\n",
              "          event.stopPropagation();\n",
              "          element.classList.toggle('function-repr-contents-collapsed');\n",
              "        };\n",
              "      }\n",
              "      </script>\n",
              "      </div>"
            ]
          },
          "metadata": {},
          "execution_count": 17
        }
      ]
    },
    {
      "cell_type": "markdown",
      "source": [
        "동기 : 실행 중인걸 끝날때가지 기다림 (blocking mode)\n",
        "\n",
        "비동기 : 실행시키고 다음으로 넘어감"
      ],
      "metadata": {
        "id": "qODPtCZ9CbNf"
      }
    },
    {
      "cell_type": "code",
      "source": [
        "results.args"
      ],
      "metadata": {
        "colab": {
          "base_uri": "https://localhost:8080/"
        },
        "id": "5s_TZWz7CXK6",
        "outputId": "38975b1b-7469-4bad-ce94-5965da2d89a8"
      },
      "execution_count": 18,
      "outputs": [
        {
          "output_type": "execute_result",
          "data": {
            "text/plain": [
              "['ls', '-l']"
            ]
          },
          "metadata": {},
          "execution_count": 18
        }
      ]
    },
    {
      "cell_type": "code",
      "source": [
        "results.returncode"
      ],
      "metadata": {
        "colab": {
          "base_uri": "https://localhost:8080/"
        },
        "id": "C_8Xc_rdC44N",
        "outputId": "2142bc90-7c70-470f-9783-bc5211cdac72"
      },
      "execution_count": 19,
      "outputs": [
        {
          "output_type": "execute_result",
          "data": {
            "text/plain": [
              "0"
            ]
          },
          "metadata": {},
          "execution_count": 19
        }
      ]
    },
    {
      "cell_type": "markdown",
      "source": [
        "0을 os에 보내서 0을 넘기면, error가 없음을 의미함 (문제없음!)"
      ],
      "metadata": {
        "id": "YYJVDDwHC9vH"
      }
    },
    {
      "cell_type": "code",
      "source": [
        "results.stdout"
      ],
      "metadata": {
        "colab": {
          "base_uri": "https://localhost:8080/",
          "height": 35
        },
        "id": "M-Niz1bBC8ox",
        "outputId": "1aa558e8-1aa4-492e-f3ad-6231ae0f1954"
      },
      "execution_count": 24,
      "outputs": [
        {
          "output_type": "execute_result",
          "data": {
            "text/plain": [
              "'total 4\\ndrwxr-xr-x 1 root root 4096 May 14 13:38 sample_data\\n'"
            ],
            "application/vnd.google.colaboratory.intrinsic+json": {
              "type": "string"
            }
          },
          "metadata": {},
          "execution_count": 24
        }
      ]
    },
    {
      "cell_type": "markdown",
      "source": [
        "bytes임"
      ],
      "metadata": {
        "id": "r1b60bbdDqc3"
      }
    },
    {
      "cell_type": "code",
      "source": [
        "type(results.stdout)"
      ],
      "metadata": {
        "colab": {
          "base_uri": "https://localhost:8080/"
        },
        "id": "ERcVJTXvDa4o",
        "outputId": "e850d912-c574-4505-81b6-6c23442a4c51"
      },
      "execution_count": 27,
      "outputs": [
        {
          "output_type": "execute_result",
          "data": {
            "text/plain": [
              "str"
            ]
          },
          "metadata": {},
          "execution_count": 27
        }
      ]
    },
    {
      "cell_type": "markdown",
      "source": [
        "# 3. Threading 기초"
      ],
      "metadata": {
        "id": "OrGs-DvsIl_g"
      }
    },
    {
      "cell_type": "code",
      "source": [
        "import threading\n",
        "\n",
        "def run_method(arg):\n",
        "    print(f\"running {arg = }\")\n",
        "\n",
        "threads = [threading.Thread(target=run_method, args=(idx,)) for idx in range(5)]\n",
        "\n",
        "for t in threads:\n",
        "    t.start()\n",
        "\n",
        "for t in threads:\n",
        "    t.join()"
      ],
      "metadata": {
        "colab": {
          "base_uri": "https://localhost:8080/"
        },
        "id": "J17tkZjKDhfj",
        "outputId": "1b7e1a3c-b32f-4b5f-c0ef-30217c5298ff"
      },
      "execution_count": 32,
      "outputs": [
        {
          "output_type": "stream",
          "name": "stdout",
          "text": [
            "running arg = 0\n",
            "running arg = 1\n",
            "running arg = 2\n",
            "running arg = 3\n",
            "running arg = 4\n"
          ]
        }
      ]
    },
    {
      "cell_type": "code",
      "source": [
        "class MyProcess(multiprocessing.Process):\n",
        "  def __init__(self, num):\n",
        "    super().__init__()\n",
        "    self.num = num\n",
        "\n",
        "  def run(self):\n",
        "    print(f\"running {self.num = } : {self.pid}\")\n",
        "\n",
        "proc = MyProcess(1)\n",
        "proc.start()\n",
        "proc.join()"
      ],
      "metadata": {
        "colab": {
          "base_uri": "https://localhost:8080/"
        },
        "id": "dE989f8rHss8",
        "outputId": "2a84ba62-7553-4c2c-e906-61378e093d9b"
      },
      "execution_count": 34,
      "outputs": [
        {
          "output_type": "stream",
          "name": "stdout",
          "text": [
            "running self.num = 1 : 17186\n"
          ]
        }
      ]
    },
    {
      "cell_type": "markdown",
      "source": [
        "# GIL test"
      ],
      "metadata": {
        "id": "KN0YJDizIj_Y"
      }
    },
    {
      "cell_type": "code",
      "source": [
        "import multiprocessing\n",
        "import time"
      ],
      "metadata": {
        "id": "ZpUCAGFmJkKR"
      },
      "execution_count": 37,
      "outputs": []
    },
    {
      "cell_type": "code",
      "source": [
        "def cpu_bound_task(n):\n",
        "  count = 0\n",
        "  for i in range(n):\n",
        "    count += n\n",
        "  print(f\"Task Completed: {count = }\")\n",
        "\n",
        "processes = []\n",
        "for i in range(2):\n",
        "  p = multiprocessing.Process(target=cpu_bound_task, args=(10**8,))\n",
        "  processes.append(p)\n",
        "\n",
        "start_time = time.time()\n",
        "\n",
        "for p in processes:\n",
        "  p.start()\n",
        "\n",
        "for p in processes:\n",
        "  p.join()\n",
        "end_time = time.time()\n",
        "\n",
        "print(f\"Time taken: {end_time - start_time :.2f} seconds\")\n"
      ],
      "metadata": {
        "colab": {
          "base_uri": "https://localhost:8080/"
        },
        "id": "C0eUWBu5IisF",
        "outputId": "9bd08298-9fab-4819-e1e5-4f8c04cbc831"
      },
      "execution_count": 43,
      "outputs": [
        {
          "output_type": "stream",
          "name": "stdout",
          "text": [
            "Task Completed: count = 10000000000000000\n",
            "Task Completed: count = 10000000000000000\n",
            "Time taken: 12.54 seconds\n"
          ]
        }
      ]
    },
    {
      "cell_type": "code",
      "source": [
        "import threading\n",
        "import time\n",
        "\n",
        "def cpu_bound_task(n):\n",
        "    count = 0\n",
        "    for i in range(n):\n",
        "        count += n\n",
        "    print(f\"Task Completed: {count = }\")\n",
        "\n",
        "threads = []\n",
        "for i in range(2):\n",
        "    thread = threading.Thread(target=cpu_bound_task, args=(10**8,))\n",
        "    threads.append(thread)\n",
        "\n",
        "start_time = time.time()\n",
        "\n",
        "for t in threads:\n",
        "    t.start()\n",
        "\n",
        "for t in threads:\n",
        "    t.join()\n",
        "end_time = time.time()\n",
        "\n",
        "print(f\"Time taken: {end_time - start_time:.2f} seconds\")\n"
      ],
      "metadata": {
        "colab": {
          "base_uri": "https://localhost:8080/"
        },
        "id": "akK_gwEdJmxk",
        "outputId": "008bd9ec-03a3-4b79-9984-53d57570d21b"
      },
      "execution_count": 44,
      "outputs": [
        {
          "output_type": "stream",
          "name": "stdout",
          "text": [
            "Task Completed: count = 10000000000000000\n",
            "Task Completed: count = 10000000000000000\n",
            "Time taken: 12.20 seconds\n"
          ]
        }
      ]
    },
    {
      "cell_type": "markdown",
      "source": [
        "원래 threading이 압도적으로 빠르나, GIL로 인해서 위에처럼 그러지 못함"
      ],
      "metadata": {
        "id": "H-UUJO0pK_eI"
      }
    },
    {
      "cell_type": "code",
      "source": [
        "import random\n",
        "import multiprocessing\n",
        "from multiprocessing import Lock, Value\n",
        "from time import sleep\n",
        "\n",
        "# 프로세스 0 (num을 증가시키는 작업)\n",
        "def proc0(num, lock):\n",
        "    with lock:  # lock을 acquire하고 자동으로 release 되는 컨텍스트 매니저 사용\n",
        "        while num.value < 10:\n",
        "            num.value += 1\n",
        "            print(f\"proc_0 num = {num.value} running\")\n",
        "            sleep(random.randint(0, 1))\n",
        "\n",
        "# 프로세스 1 (num을 감소시키는 작업)\n",
        "def proc1(num, lock):\n",
        "    with lock:  # lock을 acquire하고 자동으로 release 되는 컨텍스트 매니저 사용\n",
        "        while num.value > -10:\n",
        "            num.value -= 1\n",
        "            print(f\"proc_1 num = {num.value} running\")\n",
        "            sleep(random.randint(0, 1))\n",
        "\n",
        "if __name__ == \"__main__\":\n",
        "    lock = Lock()  # Lock 객체 생성\n",
        "    num = Value(\"i\", 0)  # 'i'는 정수형 (integer) 값을 의미, 초기값은 0\n",
        "\n",
        "    # 프로세스 생성\n",
        "    proc0 = multiprocessing.Process(target=proc0, args=(num, lock))\n",
        "    proc1 = multiprocessing.Process(target=proc1, args=(num, lock))\n",
        "\n",
        "    # 프로세스 시작\n",
        "    proc0.start()\n",
        "    proc1.start()\n",
        "\n",
        "    # 프로세스 종료 대기\n",
        "    proc0.join()\n",
        "    proc1.join()\n",
        "\n",
        "    print(f\"Final value of num: {num.value}\")\n"
      ],
      "metadata": {
        "colab": {
          "base_uri": "https://localhost:8080/"
        },
        "id": "z-sQtYXsKVlW",
        "outputId": "e00d5ee7-fff8-4ec6-b49f-499727c37b64"
      },
      "execution_count": 50,
      "outputs": [
        {
          "output_type": "stream",
          "name": "stdout",
          "text": [
            "proc_0 num = 1 running\n",
            "proc_0 num = 2 running\n",
            "proc_0 num = 3 running\n",
            "proc_0 num = 4 running\n",
            "proc_0 num = 5 running\n",
            "proc_0 num = 6 running\n",
            "proc_0 num = 7 running\n",
            "proc_0 num = 8 running\n",
            "proc_0 num = 9 running\n",
            "proc_0 num = 10 running\n",
            "proc_1 num = 9 running\n",
            "proc_1 num = 8 running\n",
            "proc_1 num = 7 running\n",
            "proc_1 num = 6 running\n",
            "proc_1 num = 5 running\n",
            "proc_1 num = 4 running\n",
            "proc_1 num = 3 running\n",
            "proc_1 num = 2 running\n",
            "proc_1 num = 1 running\n",
            "proc_1 num = 0 running\n",
            "proc_1 num = -1 running\n",
            "proc_1 num = -2 running\n",
            "proc_1 num = -3 running\n",
            "proc_1 num = -4 running\n",
            "proc_1 num = -5 running\n",
            "proc_1 num = -6 running\n",
            "proc_1 num = -7 running\n",
            "proc_1 num = -8 running\n",
            "proc_1 num = -9 running\n",
            "proc_1 num = -10 running\n",
            "Final value of num: -10\n"
          ]
        }
      ]
    },
    {
      "cell_type": "code",
      "source": [
        "# 프로세스 1 (num을 감소시키는 작업)\n",
        "def proc1(num, lock):\n",
        "    with lock:  # lock을 acquire하고 자동으로 release 되는 컨텍스트 매니저 사용\n",
        "        while num.value > -10:\n",
        "            num.value -= 1\n",
        "            print(f\"proc_1 num = {num.value} running\")\n",
        "            sleep(random.randint(0, 1))\n",
        "\n",
        "# 프로세스 0 (num을 증가시키는 작업)\n",
        "def proc0(num, lock):\n",
        "    with lock:  # lock을 acquire하고 자동으로 release 되는 컨텍스트 매니저 사용\n",
        "        while num.value < 10:\n",
        "            num.value += 1\n",
        "            print(f\"proc_0 num = {num.value} running\")\n",
        "            sleep(random.randint(0, 1))\n",
        "\n",
        "if __name__ == \"__main__\":\n",
        "    lock = Lock()  # Lock 객체 생성\n",
        "    num = Value(\"i\", 0)  # 'i'는 정수형 (integer) 값을 의미, 초기값은 0\n",
        "\n",
        "    # 프로세스 생성\n",
        "    proc1 = multiprocessing.Process(target=proc1, args=(num, lock))\n",
        "    proc0 = multiprocessing.Process(target=proc0, args=(num, lock))\n",
        "\n",
        "    # 프로세스 시작 (proc1을 먼저 시작)\n",
        "    proc1.start()\n",
        "    proc0.start()\n",
        "\n",
        "    # 프로세스 종료 대기\n",
        "    proc1.join()\n",
        "    proc0.join()\n",
        "\n",
        "    print(f\"Final value of num: {num.value}\")\n"
      ],
      "metadata": {
        "colab": {
          "base_uri": "https://localhost:8080/"
        },
        "id": "RIozzUCHOLbx",
        "outputId": "2a323d52-d008-4ebd-ad95-f69b65fa6618"
      },
      "execution_count": 51,
      "outputs": [
        {
          "output_type": "stream",
          "name": "stdout",
          "text": [
            "proc_1 num = -1 running\n",
            "proc_1 num = -2 running\n",
            "proc_1 num = -3 running\n",
            "proc_1 num = -4 running\n",
            "proc_1 num = -5 running\n",
            "proc_1 num = -6 running\n",
            "proc_1 num = -7 running\n",
            "proc_1 num = -8 running\n",
            "proc_1 num = -9 running\n",
            "proc_1 num = -10 running\n",
            "proc_0 num = -9 running\n",
            "proc_0 num = -8 running\n",
            "proc_0 num = -7 running\n",
            "proc_0 num = -6 running\n",
            "proc_0 num = -5 running\n",
            "proc_0 num = -4 running\n",
            "proc_0 num = -3 running\n",
            "proc_0 num = -2 running\n",
            "proc_0 num = -1 running\n",
            "proc_0 num = 0 running\n",
            "proc_0 num = 1 running\n",
            "proc_0 num = 2 running\n",
            "proc_0 num = 3 running\n",
            "proc_0 num = 4 running\n",
            "proc_0 num = 5 running\n",
            "proc_0 num = 6 running\n",
            "proc_0 num = 7 running\n",
            "proc_0 num = 8 running\n",
            "proc_0 num = 9 running\n",
            "proc_0 num = 10 running\n",
            "Final value of num: 10\n"
          ]
        }
      ]
    },
    {
      "cell_type": "markdown",
      "source": [
        "파이썬에서 array 모듈을 사용할 때, 배열의 element 데이터 타입을 지정하는 문자 (typecode)는 다음과 같습니다:\n",
        "* 'b': 부호있는 8비트 정수 (signed char)\n",
        "* 'B': 부호없는 8비트 정수 (unsigned char)\n",
        "* 'h': 부호있는 16비트 정수 (signed short)\n",
        "* 'H': 부호없는 16비트 정수 (unsigned short)\n",
        "* 'i': 부호있는 32비트 정수 (signed int)\n",
        "* 'I': 부호없는 32비트 정수 (unsigned int)\n",
        "* 'l': 부호있는 64비트 정수 (signed long)\n",
        "* 'L': 부호없는 64비트 정수 (unsigned long)\n",
        "* 'f': 부호있는 32비트 부동소수점 수 (float)\n",
        "* 'd': 부호있는 64비트 부동소수점 수 (double)\n",
        "* 'u': 유니코드 문자열 (unicode)\n",
        "\n",
        "예를 들어, 부호있는 8비트 정수 배열을 만들고 싶다면 array.array('b', [1, 2, 3]) 와 같이 사용할 수 있습니다."
      ],
      "metadata": {
        "id": "K94jHfhyNIfK"
      }
    },
    {
      "cell_type": "markdown",
      "source": [
        "-----------------------------------------------------------"
      ],
      "metadata": {
        "id": "pRaOn3-2Ob6I"
      }
    },
    {
      "cell_type": "markdown",
      "source": [
        "멀티프로세싱에서 프로세스 생성하는 방식\n",
        "\n",
        "* **fork**는 새로운 프로세스를 생성할 때 **부모 프로세스의 메모리 공간을 그대로 복사**하여 새로운 프로세스를 생성하는 방식. linux에서 많이 쓰임. **빠름**. fork와 fork-exec로 나뉨.자식은 독립적이긴 함. **멀티프로세싱에서 예상치못한 일 발생 가능**. **메모리에 객체로 인스턴스된 것을 재사용하기에 빠름**\n",
        "* **spawn**은 새로운 프로세스를 생성할 때 부모 프로세스의 메모리 공간을 복사하지 않고, 자식 프로세스가 **독립적인 새로운 메모리 공간**을 가지고 시작하는 방식.**오래 걸림**. 부모와 자식 모두 독립적.\n",
        "\n"
      ],
      "metadata": {
        "id": "R6Al0uEfOeQo"
      }
    },
    {
      "cell_type": "code",
      "source": [
        "import os\n",
        "\n",
        "os.name"
      ],
      "metadata": {
        "colab": {
          "base_uri": "https://localhost:8080/",
          "height": 35
        },
        "id": "k1KMoS8uNKOC",
        "outputId": "49541f22-7d27-49b7-b65b-c68d29e6e961"
      },
      "execution_count": 52,
      "outputs": [
        {
          "output_type": "execute_result",
          "data": {
            "text/plain": [
              "'posix'"
            ],
            "application/vnd.google.colaboratory.intrinsic+json": {
              "type": "string"
            }
          },
          "metadata": {},
          "execution_count": 52
        }
      ]
    },
    {
      "cell_type": "code",
      "source": [
        "!uname -a"
      ],
      "metadata": {
        "colab": {
          "base_uri": "https://localhost:8080/"
        },
        "id": "kO5MklibOu4O",
        "outputId": "0110336d-039f-4417-faf9-7f399d7d513d"
      },
      "execution_count": 53,
      "outputs": [
        {
          "output_type": "stream",
          "name": "stdout",
          "text": [
            "Linux e4586a8c974d 6.1.123+ #1 SMP PREEMPT_DYNAMIC Sun Mar 30 16:01:29 UTC 2025 x86_64 x86_64 x86_64 GNU/Linux\n"
          ]
        }
      ]
    },
    {
      "cell_type": "code",
      "source": [
        "import sys\n",
        "\n",
        "sys.platform"
      ],
      "metadata": {
        "colab": {
          "base_uri": "https://localhost:8080/",
          "height": 35
        },
        "id": "7t8kZ8ymOyPL",
        "outputId": "d1a2e1b0-26fe-41bc-eb4a-401fcfe5dc89"
      },
      "execution_count": 54,
      "outputs": [
        {
          "output_type": "execute_result",
          "data": {
            "text/plain": [
              "'linux'"
            ],
            "application/vnd.google.colaboratory.intrinsic+json": {
              "type": "string"
            }
          },
          "metadata": {},
          "execution_count": 54
        }
      ]
    },
    {
      "cell_type": "code",
      "source": [
        "import multiprocessing\n",
        "\n",
        "multiprocessing.get_start_method()"
      ],
      "metadata": {
        "colab": {
          "base_uri": "https://localhost:8080/",
          "height": 35
        },
        "id": "1vix04AiO17j",
        "outputId": "1fcc3b27-4233-4afc-d059-b3e759d04125"
      },
      "execution_count": 58,
      "outputs": [
        {
          "output_type": "execute_result",
          "data": {
            "text/plain": [
              "'fork'"
            ],
            "application/vnd.google.colaboratory.intrinsic+json": {
              "type": "string"
            }
          },
          "metadata": {},
          "execution_count": 58
        }
      ]
    },
    {
      "cell_type": "code",
      "source": [
        "import sys; sys.version"
      ],
      "metadata": {
        "colab": {
          "base_uri": "https://localhost:8080/",
          "height": 35
        },
        "id": "0KXsttlXRKzJ",
        "outputId": "a922dbb4-0582-4307-b2ed-b280871d4796"
      },
      "execution_count": 59,
      "outputs": [
        {
          "output_type": "execute_result",
          "data": {
            "text/plain": [
              "'3.11.12 (main, Apr  9 2025, 08:55:54) [GCC 11.4.0]'"
            ],
            "application/vnd.google.colaboratory.intrinsic+json": {
              "type": "string"
            }
          },
          "metadata": {},
          "execution_count": 59
        }
      ]
    },
    {
      "cell_type": "code",
      "source": [
        "import multiprocessing\n",
        "multiprocessing.set_start_method('sqawn')\n",
        "# 이걸로 spawn으로 바꿀 수 있음. 하지만 colab은 기본값이 fork 방식임."
      ],
      "metadata": {
        "colab": {
          "base_uri": "https://localhost:8080/",
          "height": 312
        },
        "id": "QLbv5bWdSD3e",
        "outputId": "678b1a5d-7e32-4d42-da6a-04046f3a4f7c"
      },
      "execution_count": 67,
      "outputs": [
        {
          "output_type": "error",
          "ename": "RuntimeError",
          "evalue": "context has already been set",
          "traceback": [
            "\u001b[0;31m---------------------------------------------------------------------------\u001b[0m",
            "\u001b[0;31mRuntimeError\u001b[0m                              Traceback (most recent call last)",
            "\u001b[0;32m<ipython-input-67-8ad126a41e5d>\u001b[0m in \u001b[0;36m<cell line: 0>\u001b[0;34m()\u001b[0m\n\u001b[1;32m      1\u001b[0m \u001b[0;32mimport\u001b[0m \u001b[0mmultiprocessing\u001b[0m\u001b[0;34m\u001b[0m\u001b[0;34m\u001b[0m\u001b[0m\n\u001b[0;32m----> 2\u001b[0;31m \u001b[0mmultiprocessing\u001b[0m\u001b[0;34m.\u001b[0m\u001b[0mset_start_method\u001b[0m\u001b[0;34m(\u001b[0m\u001b[0;34m'sqawn'\u001b[0m\u001b[0;34m)\u001b[0m\u001b[0;34m\u001b[0m\u001b[0;34m\u001b[0m\u001b[0m\n\u001b[0m\u001b[1;32m      3\u001b[0m \u001b[0;31m# 이걸로 spawn으로 바꿀 수 있음. 하지만 colab은 기본값이 fork 방식임.\u001b[0m\u001b[0;34m\u001b[0m\u001b[0;34m\u001b[0m\u001b[0m\n",
            "\u001b[0;32m/usr/lib/python3.11/multiprocessing/context.py\u001b[0m in \u001b[0;36mset_start_method\u001b[0;34m(self, method, force)\u001b[0m\n\u001b[1;32m    245\u001b[0m     \u001b[0;32mdef\u001b[0m \u001b[0mset_start_method\u001b[0m\u001b[0;34m(\u001b[0m\u001b[0mself\u001b[0m\u001b[0;34m,\u001b[0m \u001b[0mmethod\u001b[0m\u001b[0;34m,\u001b[0m \u001b[0mforce\u001b[0m\u001b[0;34m=\u001b[0m\u001b[0;32mFalse\u001b[0m\u001b[0;34m)\u001b[0m\u001b[0;34m:\u001b[0m\u001b[0;34m\u001b[0m\u001b[0;34m\u001b[0m\u001b[0m\n\u001b[1;32m    246\u001b[0m         \u001b[0;32mif\u001b[0m \u001b[0mself\u001b[0m\u001b[0;34m.\u001b[0m\u001b[0m_actual_context\u001b[0m \u001b[0;32mis\u001b[0m \u001b[0;32mnot\u001b[0m \u001b[0;32mNone\u001b[0m \u001b[0;32mand\u001b[0m \u001b[0;32mnot\u001b[0m \u001b[0mforce\u001b[0m\u001b[0;34m:\u001b[0m\u001b[0;34m\u001b[0m\u001b[0;34m\u001b[0m\u001b[0m\n\u001b[0;32m--> 247\u001b[0;31m             \u001b[0;32mraise\u001b[0m \u001b[0mRuntimeError\u001b[0m\u001b[0;34m(\u001b[0m\u001b[0;34m'context has already been set'\u001b[0m\u001b[0;34m)\u001b[0m\u001b[0;34m\u001b[0m\u001b[0;34m\u001b[0m\u001b[0m\n\u001b[0m\u001b[1;32m    248\u001b[0m         \u001b[0;32mif\u001b[0m \u001b[0mmethod\u001b[0m \u001b[0;32mis\u001b[0m \u001b[0;32mNone\u001b[0m \u001b[0;32mand\u001b[0m \u001b[0mforce\u001b[0m\u001b[0;34m:\u001b[0m\u001b[0;34m\u001b[0m\u001b[0;34m\u001b[0m\u001b[0m\n\u001b[1;32m    249\u001b[0m             \u001b[0mself\u001b[0m\u001b[0;34m.\u001b[0m\u001b[0m_actual_context\u001b[0m \u001b[0;34m=\u001b[0m \u001b[0;32mNone\u001b[0m\u001b[0;34m\u001b[0m\u001b[0;34m\u001b[0m\u001b[0m\n",
            "\u001b[0;31mRuntimeError\u001b[0m: context has already been set"
          ]
        }
      ]
    },
    {
      "cell_type": "code",
      "source": [
        "multiprocessing.get_start_method()"
      ],
      "metadata": {
        "colab": {
          "base_uri": "https://localhost:8080/",
          "height": 35
        },
        "id": "IiQRBd2AUeIV",
        "outputId": "4f736998-0073-4515-a934-9d2eaf81ba9d"
      },
      "execution_count": 68,
      "outputs": [
        {
          "output_type": "execute_result",
          "data": {
            "text/plain": [
              "'fork'"
            ],
            "application/vnd.google.colaboratory.intrinsic+json": {
              "type": "string"
            }
          },
          "metadata": {},
          "execution_count": 68
        }
      ]
    },
    {
      "cell_type": "markdown",
      "source": [
        "# subprocess\n",
        "\n",
        "* 'subprocess.run()' : python 3.5+, cp(completed p)\n",
        "* 'subprocess.getoutput()'\n",
        "* 'subprocess.check_output()'\n",
        "* 'subprocess.Popen()' : class"
      ],
      "metadata": {
        "id": "QVny6BKgVD8B"
      }
    },
    {
      "cell_type": "markdown",
      "source": [
        "위에 3개가 동기적임"
      ],
      "metadata": {
        "id": "WflPuwujVw1h"
      }
    },
    {
      "cell_type": "code",
      "source": [
        "!echo \"Hello, Python!\"\n"
      ],
      "metadata": {
        "colab": {
          "base_uri": "https://localhost:8080/"
        },
        "id": "FPwSRsUxV-_J",
        "outputId": "9e32ceed-8a65-466d-e5e1-7b9367247c1c"
      },
      "execution_count": 72,
      "outputs": [
        {
          "output_type": "stream",
          "name": "stdout",
          "text": [
            "Hello, Python!\n"
          ]
        }
      ]
    },
    {
      "cell_type": "code",
      "source": [
        "import subprocess\n",
        "\n",
        "cp = subprocess.run(\n",
        "    [\"echo\", \"Hello, Python!\"],\n",
        "    capture_output=True,\n",
        "    text=True,\n",
        "    shell=False,\n",
        ")\n",
        "\n",
        "print(cp.stdout)"
      ],
      "metadata": {
        "colab": {
          "base_uri": "https://localhost:8080/"
        },
        "id": "FUfIKEu0U-M_",
        "outputId": "579bc61d-351c-4a3f-ad25-8dae8dbc80b2"
      },
      "execution_count": 76,
      "outputs": [
        {
          "output_type": "stream",
          "name": "stdout",
          "text": [
            "Hello, Python!\n",
            "\n"
          ]
        }
      ]
    },
    {
      "cell_type": "code",
      "source": [
        "import subprocess\n",
        "\n",
        "cp = subprocess.run(\n",
        "    [\"echo\", \"Hello, Python!\"],\n",
        "    capture_output=True,\n",
        "    text=True,\n",
        "    shell=True,\n",
        ")\n",
        "\n",
        "print(cp.stdout)"
      ],
      "metadata": {
        "colab": {
          "base_uri": "https://localhost:8080/"
        },
        "id": "NXCBvMPCWVL_",
        "outputId": "2be98835-c5e1-4836-c1c5-f63acd381535"
      },
      "execution_count": 78,
      "outputs": [
        {
          "output_type": "stream",
          "name": "stdout",
          "text": [
            "\n",
            "\n"
          ]
        }
      ]
    },
    {
      "cell_type": "markdown",
      "source": [
        "에러는 없으나, echo가 떨어지기에 결과값으로 빈 것을 주고 동작 끝"
      ],
      "metadata": {
        "id": "aH0ihSbvWulp"
      }
    },
    {
      "cell_type": "markdown",
      "source": [
        "사실, shell을 사용하는 것은 굉장히 위험한 일임.\n",
        "\n",
        "예) rm -rf / 묻지 말고 다 지움.\n",
        "\n",
        "/가 있으므로 linux안에 모든 것을 다 지워버림 => **shell injection 문제**임."
      ],
      "metadata": {
        "id": "t11HwCbKW1Gx"
      }
    },
    {
      "cell_type": "code",
      "source": [
        "import subprocess\n",
        "\n",
        "cmd = input(\"enter your cmd: \") # rm -rf / 묻지 말고 다 지운다. /가 있으므로 linux안에 모든 것을 다 지워버림 => shell injection 문제임.\n",
        "cp = subprocess.run(\n",
        "    # [f\"{cmd}\"],\n",
        "    [\"echo\", \"Hello, Python!\"],\n",
        "    capture_output=True,\n",
        "    text=True,\n",
        "    shell=False,\n",
        ")\n",
        "\n",
        "print(cp.stdout)"
      ],
      "metadata": {
        "colab": {
          "base_uri": "https://localhost:8080/"
        },
        "id": "k7g4s5xgWn3k",
        "outputId": "6ca27a26-2954-4d9a-cd61-59731e74c8da"
      },
      "execution_count": 81,
      "outputs": [
        {
          "output_type": "stream",
          "name": "stdout",
          "text": [
            "enter your cmd: test\n",
            "Hello, Python!\n",
            "\n"
          ]
        }
      ]
    },
    {
      "cell_type": "code",
      "source": [
        "import subprocess\n",
        "\n",
        "cp1 = subprocess.run(\n",
        "    [\"ls\", \"-l\"],\n",
        "    capture_output=True,\n",
        "    text=True,\n",
        "    shell=True,\n",
        "    check=True,  # 명령어가 비정상 종료 시 예외를 발생시킴\n",
        "    timeout=100,  # 실행 시간 제한 (100초)\n",
        ")\n",
        "\n",
        "cp2 = subprocess.run(\n",
        "    [\"echo\", \"Hello, Python!\"],\n",
        "    capture_output=True,\n",
        "    text=True,\n",
        "    shell=True,\n",
        "    check=True,\n",
        "    timeout=100,\n",
        ")"
      ],
      "metadata": {
        "id": "C4J6Kr5DXzKZ"
      },
      "execution_count": 100,
      "outputs": []
    },
    {
      "cell_type": "code",
      "source": [
        "try:\n",
        "  cp = subprocess.run(\n",
        "      [\"ls\", \"not_exist\"],\n",
        "      capture_output=True,\n",
        "      text=True,\n",
        "      shell=True,\n",
        "      check=True, # 체커\n",
        "      timeout=100, # 실행 시간에 제한을 줌. 100s 동안만 구동 가능.\n",
        "  )\n",
        "\n",
        "except subprocess.TimeoutExpired as e:\n",
        "  print(e)\n",
        "except subprocess.CalledProcessError as cpe:\n",
        "  print(cpe.srderr)\n",
        "  print(type(cpe.stderr))"
      ],
      "metadata": {
        "id": "KgYC-5DjYQ6p"
      },
      "execution_count": 84,
      "outputs": []
    },
    {
      "cell_type": "code",
      "source": [
        "!pip list"
      ],
      "metadata": {
        "colab": {
          "base_uri": "https://localhost:8080/"
        },
        "id": "3NxWeuz1ZV-B",
        "outputId": "0cbacf29-db08-44fe-e458-d6a5b35ed098"
      },
      "execution_count": 89,
      "outputs": [
        {
          "output_type": "stream",
          "name": "stdout",
          "text": [
            "Package                               Version\n",
            "------------------------------------- -------------------\n",
            "absl-py                               1.4.0\n",
            "accelerate                            1.6.0\n",
            "aiohappyeyeballs                      2.6.1\n",
            "aiohttp                               3.11.15\n",
            "aiosignal                             1.3.2\n",
            "alabaster                             1.0.0\n",
            "albucore                              0.0.24\n",
            "albumentations                        2.0.6\n",
            "ale-py                                0.11.0\n",
            "altair                                5.5.0\n",
            "annotated-types                       0.7.0\n",
            "antlr4-python3-runtime                4.9.3\n",
            "anyio                                 4.9.0\n",
            "argon2-cffi                           23.1.0\n",
            "argon2-cffi-bindings                  21.2.0\n",
            "array_record                          0.7.2\n",
            "arviz                                 0.21.0\n",
            "astropy                               7.0.2\n",
            "astropy-iers-data                     0.2025.5.12.0.38.29\n",
            "astunparse                            1.6.3\n",
            "atpublic                              5.1\n",
            "attrs                                 25.3.0\n",
            "audioread                             3.0.1\n",
            "autograd                              1.8.0\n",
            "babel                                 2.17.0\n",
            "backcall                              0.2.0\n",
            "backports.tarfile                     1.2.0\n",
            "beautifulsoup4                        4.13.4\n",
            "betterproto                           2.0.0b6\n",
            "bigframes                             2.4.0\n",
            "bigquery-magics                       0.9.0\n",
            "bleach                                6.2.0\n",
            "blinker                               1.9.0\n",
            "blis                                  1.3.0\n",
            "blobfile                              3.0.0\n",
            "blosc2                                3.3.2\n",
            "bokeh                                 3.7.3\n",
            "Bottleneck                            1.4.2\n",
            "bqplot                                0.12.44\n",
            "branca                                0.8.1\n",
            "build                                 1.2.2.post1\n",
            "CacheControl                          0.14.3\n",
            "cachetools                            5.5.2\n",
            "catalogue                             2.0.10\n",
            "certifi                               2025.4.26\n",
            "cffi                                  1.17.1\n",
            "chardet                               5.2.0\n",
            "charset-normalizer                    3.4.2\n",
            "chex                                  0.1.89\n",
            "clarabel                              0.10.0\n",
            "click                                 8.2.0\n",
            "cloudpathlib                          0.21.0\n",
            "cloudpickle                           3.1.1\n",
            "cmake                                 3.31.6\n",
            "cmdstanpy                             1.2.5\n",
            "colorcet                              3.1.0\n",
            "colorlover                            0.3.0\n",
            "colour                                0.1.5\n",
            "community                             1.0.0b1\n",
            "confection                            0.1.5\n",
            "cons                                  0.4.6\n",
            "contourpy                             1.3.2\n",
            "cramjam                               2.10.0\n",
            "cryptography                          43.0.3\n",
            "cuda-python                           12.6.2.post1\n",
            "cudf-cu12                             25.2.1\n",
            "cudf-polars-cu12                      25.2.2\n",
            "cufflinks                             0.17.3\n",
            "cuml-cu12                             25.2.1\n",
            "cupy-cuda12x                          13.3.0\n",
            "curl_cffi                             0.10.0\n",
            "cuvs-cu12                             25.2.1\n",
            "cvxopt                                1.3.2\n",
            "cvxpy                                 1.6.5\n",
            "cycler                                0.12.1\n",
            "cyipopt                               1.5.0\n",
            "cymem                                 2.0.11\n",
            "Cython                                3.0.12\n",
            "dask                                  2024.12.1\n",
            "dask-cuda                             25.2.0\n",
            "dask-cudf-cu12                        25.2.2\n",
            "dask-expr                             1.1.21\n",
            "dataproc-spark-connect                0.7.3\n",
            "datascience                           0.17.6\n",
            "datasets                              2.14.4\n",
            "db-dtypes                             1.4.3\n",
            "dbus-python                           1.2.18\n",
            "debugpy                               1.8.0\n",
            "decorator                             4.4.2\n",
            "defusedxml                            0.7.1\n",
            "diffusers                             0.33.1\n",
            "dill                                  0.3.7\n",
            "distributed                           2024.12.1\n",
            "distributed-ucxx-cu12                 0.42.0\n",
            "distro                                1.9.0\n",
            "dlib                                  19.24.6\n",
            "dm-tree                               0.1.9\n",
            "docker-pycreds                        0.4.0\n",
            "docstring_parser                      0.16\n",
            "docutils                              0.21.2\n",
            "dopamine_rl                           4.1.2\n",
            "duckdb                                1.2.2\n",
            "earthengine-api                       1.5.15\n",
            "easydict                              1.13\n",
            "editdistance                          0.8.1\n",
            "eerepr                                0.1.2\n",
            "einops                                0.8.1\n",
            "en_core_web_sm                        3.8.0\n",
            "entrypoints                           0.4\n",
            "et_xmlfile                            2.0.0\n",
            "etils                                 1.12.2\n",
            "etuples                               0.3.9\n",
            "Farama-Notifications                  0.0.4\n",
            "fastai                                2.7.19\n",
            "fastcore                              1.7.29\n",
            "fastdownload                          0.0.7\n",
            "fastjsonschema                        2.21.1\n",
            "fastprogress                          1.0.3\n",
            "fastrlock                             0.8.3\n",
            "filelock                              3.18.0\n",
            "firebase-admin                        6.8.0\n",
            "Flask                                 3.1.1\n",
            "flatbuffers                           25.2.10\n",
            "flax                                  0.10.6\n",
            "folium                                0.19.5\n",
            "fonttools                             4.58.0\n",
            "frozendict                            2.4.6\n",
            "frozenlist                            1.6.0\n",
            "fsspec                                2025.3.2\n",
            "future                                1.0.0\n",
            "gast                                  0.6.0\n",
            "gcsfs                                 2025.3.2\n",
            "GDAL                                  3.6.4\n",
            "gdown                                 5.2.0\n",
            "geemap                                0.35.3\n",
            "geocoder                              1.38.1\n",
            "geographiclib                         2.0\n",
            "geopandas                             1.0.1\n",
            "geopy                                 2.4.1\n",
            "gin-config                            0.5.0\n",
            "gitdb                                 4.0.12\n",
            "GitPython                             3.1.44\n",
            "glob2                                 0.7\n",
            "google                                2.0.3\n",
            "google-ai-generativelanguage          0.6.15\n",
            "google-api-core                       2.24.2\n",
            "google-api-python-client              2.169.0\n",
            "google-auth                           2.38.0\n",
            "google-auth-httplib2                  0.2.0\n",
            "google-auth-oauthlib                  1.2.2\n",
            "google-cloud-aiplatform               1.92.0\n",
            "google-cloud-bigquery                 3.32.0\n",
            "google-cloud-bigquery-connection      1.18.2\n",
            "google-cloud-bigquery-storage         2.31.0\n",
            "google-cloud-core                     2.4.3\n",
            "google-cloud-dataproc                 5.18.1\n",
            "google-cloud-datastore                2.21.0\n",
            "google-cloud-firestore                2.20.2\n",
            "google-cloud-functions                1.20.3\n",
            "google-cloud-iam                      2.19.0\n",
            "google-cloud-language                 2.17.1\n",
            "google-cloud-resource-manager         1.14.2\n",
            "google-cloud-spanner                  3.54.0\n",
            "google-cloud-storage                  2.19.0\n",
            "google-cloud-translate                3.20.2\n",
            "google-colab                          1.0.0\n",
            "google-crc32c                         1.7.1\n",
            "google-genai                          1.15.0\n",
            "google-generativeai                   0.8.5\n",
            "google-pasta                          0.2.0\n",
            "google-resumable-media                2.7.2\n",
            "googleapis-common-protos              1.70.0\n",
            "googledrivedownloader                 1.1.0\n",
            "graphviz                              0.20.3\n",
            "greenlet                              3.2.2\n",
            "grpc-google-iam-v1                    0.14.2\n",
            "grpc-interceptor                      0.15.4\n",
            "grpcio                                1.71.0\n",
            "grpcio-status                         1.71.0\n",
            "grpclib                               0.4.8\n",
            "gspread                               6.2.0\n",
            "gspread-dataframe                     4.0.0\n",
            "gym                                   0.25.2\n",
            "gym-notices                           0.0.8\n",
            "gymnasium                             1.1.1\n",
            "h11                                   0.16.0\n",
            "h2                                    4.2.0\n",
            "h5netcdf                              1.6.1\n",
            "h5py                                  3.13.0\n",
            "hdbscan                               0.8.40\n",
            "hf_transfer                           0.1.9\n",
            "highspy                               1.10.0\n",
            "holidays                              0.72\n",
            "holoviews                             1.20.2\n",
            "hpack                                 4.1.0\n",
            "html5lib                              1.1\n",
            "httpcore                              1.0.9\n",
            "httpimport                            1.4.1\n",
            "httplib2                              0.22.0\n",
            "httpx                                 0.28.1\n",
            "huggingface-hub                       0.31.2\n",
            "humanize                              4.12.3\n",
            "hyperframe                            6.1.0\n",
            "hyperopt                              0.2.7\n",
            "ibis-framework                        9.5.0\n",
            "idna                                  3.10\n",
            "imageio                               2.37.0\n",
            "imageio-ffmpeg                        0.6.0\n",
            "imagesize                             1.4.1\n",
            "imbalanced-learn                      0.13.0\n",
            "immutabledict                         4.2.1\n",
            "importlib_metadata                    8.7.0\n",
            "importlib_resources                   6.5.2\n",
            "imutils                               0.5.4\n",
            "inflect                               7.5.0\n",
            "iniconfig                             2.1.0\n",
            "intel-cmplr-lib-ur                    2025.1.1\n",
            "intel-openmp                          2025.1.1\n",
            "ipyevents                             2.0.2\n",
            "ipyfilechooser                        0.6.0\n",
            "ipykernel                             6.17.1\n",
            "ipyleaflet                            0.19.2\n",
            "ipyparallel                           8.8.0\n",
            "ipython                               7.34.0\n",
            "ipython-genutils                      0.2.0\n",
            "ipython-sql                           0.5.0\n",
            "ipytree                               0.2.2\n",
            "ipywidgets                            7.7.1\n",
            "itsdangerous                          2.2.0\n",
            "jaraco.classes                        3.4.0\n",
            "jaraco.context                        6.0.1\n",
            "jaraco.functools                      4.1.0\n",
            "jax                                   0.5.2\n",
            "jax-cuda12-pjrt                       0.5.1\n",
            "jax-cuda12-plugin                     0.5.1\n",
            "jaxlib                                0.5.1\n",
            "jeepney                               0.9.0\n",
            "jieba                                 0.42.1\n",
            "Jinja2                                3.1.6\n",
            "jiter                                 0.9.0\n",
            "joblib                                1.5.0\n",
            "jsonpatch                             1.33\n",
            "jsonpickle                            4.0.5\n",
            "jsonpointer                           3.0.0\n",
            "jsonschema                            4.23.0\n",
            "jsonschema-specifications             2025.4.1\n",
            "jupyter-client                        6.1.12\n",
            "jupyter-console                       6.1.0\n",
            "jupyter_core                          5.7.2\n",
            "jupyter_kernel_gateway                2.5.2\n",
            "jupyter-leaflet                       0.19.2\n",
            "jupyter-server                        1.16.0\n",
            "jupyterlab_pygments                   0.3.0\n",
            "jupyterlab_widgets                    3.0.15\n",
            "kaggle                                1.7.4.5\n",
            "kagglehub                             0.3.12\n",
            "keras                                 3.8.0\n",
            "keras-hub                             0.18.1\n",
            "keras-nlp                             0.18.1\n",
            "keyring                               25.6.0\n",
            "keyrings.google-artifactregistry-auth 1.1.2\n",
            "kiwisolver                            1.4.8\n",
            "langchain                             0.3.25\n",
            "langchain-core                        0.3.59\n",
            "langchain-text-splitters              0.3.8\n",
            "langcodes                             3.5.0\n",
            "langsmith                             0.3.42\n",
            "language_data                         1.3.0\n",
            "launchpadlib                          1.10.16\n",
            "lazr.restfulclient                    0.14.4\n",
            "lazr.uri                              1.0.6\n",
            "lazy_loader                           0.4\n",
            "libclang                              18.1.1\n",
            "libcudf-cu12                          25.2.1\n",
            "libcugraph-cu12                       25.2.0\n",
            "libcuml-cu12                          25.2.1\n",
            "libcuvs-cu12                          25.2.1\n",
            "libkvikio-cu12                        25.2.1\n",
            "libpysal                              4.13.0\n",
            "libraft-cu12                          25.2.0\n",
            "librosa                               0.11.0\n",
            "libucx-cu12                           1.18.1\n",
            "libucxx-cu12                          0.42.0\n",
            "lightgbm                              4.5.0\n",
            "linkify-it-py                         2.0.3\n",
            "llvmlite                              0.43.0\n",
            "locket                                1.0.0\n",
            "logical-unification                   0.4.6\n",
            "lxml                                  5.4.0\n",
            "Mako                                  1.1.3\n",
            "marisa-trie                           1.2.1\n",
            "Markdown                              3.8\n",
            "markdown-it-py                        3.0.0\n",
            "MarkupSafe                            3.0.2\n",
            "matplotlib                            3.10.0\n",
            "matplotlib-inline                     0.1.7\n",
            "matplotlib-venn                       1.1.2\n",
            "mdit-py-plugins                       0.4.2\n",
            "mdurl                                 0.1.2\n",
            "miniKanren                            1.0.3\n",
            "missingno                             0.5.2\n",
            "mistune                               3.1.3\n",
            "mizani                                0.13.5\n",
            "mkl                                   2025.0.1\n",
            "ml-dtypes                             0.4.1\n",
            "mlxtend                               0.23.4\n",
            "more-itertools                        10.7.0\n",
            "moviepy                               1.0.3\n",
            "mpmath                                1.3.0\n",
            "msgpack                               1.1.0\n",
            "multidict                             6.4.3\n",
            "multipledispatch                      1.0.0\n",
            "multiprocess                          0.70.15\n",
            "multitasking                          0.0.11\n",
            "murmurhash                            1.0.12\n",
            "music21                               9.3.0\n",
            "namex                                 0.0.9\n",
            "narwhals                              1.39.0\n",
            "natsort                               8.4.0\n",
            "nbclassic                             1.3.1\n",
            "nbclient                              0.10.2\n",
            "nbconvert                             7.16.6\n",
            "nbformat                              5.10.4\n",
            "ndindex                               1.9.2\n",
            "nest-asyncio                          1.6.0\n",
            "networkx                              3.4.2\n",
            "nibabel                               5.3.2\n",
            "nltk                                  3.9.1\n",
            "notebook                              6.5.7\n",
            "notebook_shim                         0.2.4\n",
            "numba                                 0.60.0\n",
            "numba-cuda                            0.2.0\n",
            "numexpr                               2.10.2\n",
            "numpy                                 2.0.2\n",
            "nvidia-cublas-cu12                    12.5.3.2\n",
            "nvidia-cuda-cupti-cu12                12.5.82\n",
            "nvidia-cuda-nvcc-cu12                 12.5.82\n",
            "nvidia-cuda-nvrtc-cu12                12.5.82\n",
            "nvidia-cuda-runtime-cu12              12.5.82\n",
            "nvidia-cudnn-cu12                     9.3.0.75\n",
            "nvidia-cufft-cu12                     11.2.3.61\n",
            "nvidia-curand-cu12                    10.3.6.82\n",
            "nvidia-cusolver-cu12                  11.6.3.83\n",
            "nvidia-cusparse-cu12                  12.5.1.3\n",
            "nvidia-cusparselt-cu12                0.6.2\n",
            "nvidia-ml-py                          12.575.51\n",
            "nvidia-nccl-cu12                      2.21.5\n",
            "nvidia-nvcomp-cu12                    4.2.0.11\n",
            "nvidia-nvjitlink-cu12                 12.5.82\n",
            "nvidia-nvtx-cu12                      12.4.127\n",
            "nvtx                                  0.2.11\n",
            "nx-cugraph-cu12                       25.2.0\n",
            "oauth2client                          4.1.3\n",
            "oauthlib                              3.2.2\n",
            "omegaconf                             2.3.0\n",
            "openai                                1.78.1\n",
            "opencv-contrib-python                 4.11.0.86\n",
            "opencv-python                         4.11.0.86\n",
            "opencv-python-headless                4.11.0.86\n",
            "openpyxl                              3.1.5\n",
            "opt_einsum                            3.4.0\n",
            "optax                                 0.2.4\n",
            "optree                                0.15.0\n",
            "orbax-checkpoint                      0.11.13\n",
            "orjson                                3.10.18\n",
            "osqp                                  1.0.4\n",
            "packaging                             24.2\n",
            "pandas                                2.2.2\n",
            "pandas-datareader                     0.10.0\n",
            "pandas-gbq                            0.28.1\n",
            "pandas-stubs                          2.2.2.240909\n",
            "pandocfilters                         1.5.1\n",
            "panel                                 1.6.3\n",
            "param                                 2.2.0\n",
            "parso                                 0.8.4\n",
            "parsy                                 2.1\n",
            "partd                                 1.4.2\n",
            "pathlib                               1.0.1\n",
            "patsy                                 1.0.1\n",
            "peewee                                3.18.1\n",
            "peft                                  0.15.2\n",
            "pexpect                               4.9.0\n",
            "pickleshare                           0.7.5\n",
            "pillow                                11.2.1\n",
            "pip                                   24.1.2\n",
            "platformdirs                          4.3.8\n",
            "plotly                                5.24.1\n",
            "plotnine                              0.14.5\n",
            "pluggy                                1.5.0\n",
            "ply                                   3.11\n",
            "polars                                1.21.0\n",
            "pooch                                 1.8.2\n",
            "portpicker                            1.5.2\n",
            "preshed                               3.0.9\n",
            "prettytable                           3.16.0\n",
            "proglog                               0.1.12\n",
            "progressbar2                          4.5.0\n",
            "prometheus_client                     0.21.1\n",
            "promise                               2.3\n",
            "prompt_toolkit                        3.0.51\n",
            "propcache                             0.3.1\n",
            "prophet                               1.1.6\n",
            "proto-plus                            1.26.1\n",
            "protobuf                              5.29.4\n",
            "psutil                                5.9.5\n",
            "psycopg2                              2.9.10\n",
            "ptyprocess                            0.7.0\n",
            "py-cpuinfo                            9.0.0\n",
            "py4j                                  0.10.9.7\n",
            "pyarrow                               18.1.0\n",
            "pyasn1                                0.6.1\n",
            "pyasn1_modules                        0.4.2\n",
            "pycairo                               1.28.0\n",
            "pycocotools                           2.0.8\n",
            "pycparser                             2.22\n",
            "pycryptodomex                         3.22.0\n",
            "pydantic                              2.11.4\n",
            "pydantic_core                         2.33.2\n",
            "pydata-google-auth                    1.9.1\n",
            "pydot                                 3.0.4\n",
            "pydotplus                             2.0.2\n",
            "PyDrive                               1.3.1\n",
            "PyDrive2                              1.21.3\n",
            "pyerfa                                2.0.1.5\n",
            "pygame                                2.6.1\n",
            "pygit2                                1.18.0\n",
            "Pygments                              2.19.1\n",
            "PyGObject                             3.42.0\n",
            "PyJWT                                 2.10.1\n",
            "pylibcudf-cu12                        25.2.1\n",
            "pylibcugraph-cu12                     25.2.0\n",
            "pylibraft-cu12                        25.2.0\n",
            "pymc                                  5.22.0\n",
            "pymystem3                             0.2.0\n",
            "pynndescent                           0.5.13\n",
            "pynvjitlink-cu12                      0.6.0\n",
            "pynvml                                12.0.0\n",
            "pyogrio                               0.11.0\n",
            "pyomo                                 6.9.2\n",
            "PyOpenGL                              3.1.9\n",
            "pyOpenSSL                             24.2.1\n",
            "pyparsing                             3.2.3\n",
            "pyperclip                             1.9.0\n",
            "pyproj                                3.7.1\n",
            "pyproject_hooks                       1.2.0\n",
            "pyshp                                 2.3.1\n",
            "PySocks                               1.7.1\n",
            "pyspark                               3.5.1\n",
            "pytensor                              2.30.3\n",
            "pytest                                8.3.5\n",
            "python-apt                            0.0.0\n",
            "python-box                            7.3.2\n",
            "python-dateutil                       2.9.0.post0\n",
            "python-louvain                        0.16\n",
            "python-slugify                        8.0.4\n",
            "python-snappy                         0.7.3\n",
            "python-utils                          3.9.1\n",
            "pytz                                  2025.2\n",
            "pyviz_comms                           3.0.4\n",
            "PyWavelets                            1.8.0\n",
            "PyYAML                                6.0.2\n",
            "pyzmq                                 24.0.1\n",
            "raft-dask-cu12                        25.2.0\n",
            "rapids-dask-dependency                25.2.0\n",
            "ratelim                               0.1.6\n",
            "referencing                           0.36.2\n",
            "regex                                 2024.11.6\n",
            "requests                              2.32.3\n",
            "requests-oauthlib                     2.0.0\n",
            "requests-toolbelt                     1.0.0\n",
            "requirements-parser                   0.9.0\n",
            "rich                                  13.9.4\n",
            "rmm-cu12                              25.2.0\n",
            "roman-numerals-py                     3.1.0\n",
            "rpds-py                               0.24.0\n",
            "rpy2                                  3.5.17\n",
            "rsa                                   4.9.1\n",
            "safetensors                           0.5.3\n",
            "scikit-image                          0.25.2\n",
            "scikit-learn                          1.6.1\n",
            "scipy                                 1.15.3\n",
            "scooby                                0.10.1\n",
            "scs                                   3.2.7.post2\n",
            "seaborn                               0.13.2\n",
            "SecretStorage                         3.3.3\n",
            "Send2Trash                            1.8.3\n",
            "sentence-transformers                 4.1.0\n",
            "sentencepiece                         0.2.0\n",
            "sentry-sdk                            2.28.0\n",
            "setproctitle                          1.3.6\n",
            "setuptools                            75.2.0\n",
            "shap                                  0.47.2\n",
            "shapely                               2.1.0\n",
            "shellingham                           1.5.4\n",
            "simple-parsing                        0.1.7\n",
            "simplejson                            3.20.1\n",
            "simsimd                               6.2.1\n",
            "six                                   1.17.0\n",
            "sklearn-compat                        0.1.3\n",
            "sklearn-pandas                        2.2.0\n",
            "slicer                                0.0.8\n",
            "smart-open                            7.1.0\n",
            "smmap                                 5.0.2\n",
            "sniffio                               1.3.1\n",
            "snowballstemmer                       3.0.1\n",
            "sortedcontainers                      2.4.0\n",
            "soundfile                             0.13.1\n",
            "soupsieve                             2.7\n",
            "soxr                                  0.5.0.post1\n",
            "spacy                                 3.8.5\n",
            "spacy-legacy                          3.0.12\n",
            "spacy-loggers                         1.0.5\n",
            "spanner-graph-notebook                1.1.6\n",
            "Sphinx                                8.2.3\n",
            "sphinxcontrib-applehelp               2.0.0\n",
            "sphinxcontrib-devhelp                 2.0.0\n",
            "sphinxcontrib-htmlhelp                2.1.0\n",
            "sphinxcontrib-jsmath                  1.0.1\n",
            "sphinxcontrib-qthelp                  2.0.0\n",
            "sphinxcontrib-serializinghtml         2.0.0\n",
            "SQLAlchemy                            2.0.40\n",
            "sqlglot                               25.20.2\n",
            "sqlparse                              0.5.3\n",
            "srsly                                 2.5.1\n",
            "stanio                                0.5.1\n",
            "statsmodels                           0.14.4\n",
            "stringzilla                           3.12.5\n",
            "stumpy                                1.13.0\n",
            "sympy                                 1.13.1\n",
            "tables                                3.10.2\n",
            "tabulate                              0.9.0\n",
            "tbb                                   2022.1.0\n",
            "tblib                                 3.1.0\n",
            "tcmlib                                1.3.0\n",
            "tenacity                              9.1.2\n",
            "tensorboard                           2.18.0\n",
            "tensorboard-data-server               0.7.2\n",
            "tensorflow                            2.18.0\n",
            "tensorflow-datasets                   4.9.8\n",
            "tensorflow_decision_forests           1.11.0\n",
            "tensorflow-hub                        0.16.1\n",
            "tensorflow-io-gcs-filesystem          0.37.1\n",
            "tensorflow-metadata                   1.17.1\n",
            "tensorflow-probability                0.25.0\n",
            "tensorflow-text                       2.18.1\n",
            "tensorstore                           0.1.74\n",
            "termcolor                             3.1.0\n",
            "terminado                             0.18.1\n",
            "text-unidecode                        1.3\n",
            "textblob                              0.19.0\n",
            "tf_keras                              2.18.0\n",
            "tf-slim                               1.1.0\n",
            "thinc                                 8.3.6\n",
            "threadpoolctl                         3.6.0\n",
            "tifffile                              2025.5.10\n",
            "tiktoken                              0.9.0\n",
            "timm                                  1.0.15\n",
            "tinycss2                              1.4.0\n",
            "tokenizers                            0.21.1\n",
            "toml                                  0.10.2\n",
            "toolz                                 0.12.1\n",
            "torch                                 2.6.0+cu124\n",
            "torchao                               0.10.0\n",
            "torchaudio                            2.6.0+cu124\n",
            "torchdata                             0.11.0\n",
            "torchsummary                          1.5.1\n",
            "torchtune                             0.6.1\n",
            "torchvision                           0.21.0+cu124\n",
            "tornado                               6.4.2\n",
            "tqdm                                  4.67.1\n",
            "traitlets                             5.7.1\n",
            "traittypes                            0.2.1\n",
            "transformers                          4.51.3\n",
            "treelite                              4.4.1\n",
            "treescope                             0.1.9\n",
            "triton                                3.2.0\n",
            "tsfresh                               0.21.0\n",
            "tweepy                                4.15.0\n",
            "typeguard                             4.4.2\n",
            "typer                                 0.15.3\n",
            "types-pytz                            2025.2.0.20250326\n",
            "types-setuptools                      80.4.0.20250511\n",
            "typing_extensions                     4.13.2\n",
            "typing-inspection                     0.4.0\n",
            "tzdata                                2025.2\n",
            "tzlocal                               5.3.1\n",
            "uc-micro-py                           1.0.3\n",
            "ucx-py-cu12                           0.42.0\n",
            "ucxx-cu12                             0.42.0\n",
            "umap-learn                            0.5.7\n",
            "umf                                   0.10.0\n",
            "uritemplate                           4.1.1\n",
            "urllib3                               2.4.0\n",
            "vega-datasets                         0.9.0\n",
            "wadllib                               1.3.6\n",
            "wandb                                 0.19.11\n",
            "wasabi                                1.1.3\n",
            "wcwidth                               0.2.13\n",
            "weasel                                0.4.1\n",
            "webcolors                             24.11.1\n",
            "webencodings                          0.5.1\n",
            "websocket-client                      1.8.0\n",
            "websockets                            15.0.1\n",
            "Werkzeug                              3.1.3\n",
            "wheel                                 0.45.1\n",
            "widgetsnbextension                    3.6.10\n",
            "wordcloud                             1.9.4\n",
            "wrapt                                 1.17.2\n",
            "wurlitzer                             3.1.1\n",
            "xarray                                2025.3.1\n",
            "xarray-einstats                       0.8.0\n",
            "xgboost                               2.1.4\n",
            "xlrd                                  2.0.1\n",
            "xxhash                                3.5.0\n",
            "xyzservices                           2025.4.0\n",
            "yarl                                  1.20.0\n",
            "ydf                                   0.11.0\n",
            "yellowbrick                           1.5\n",
            "yfinance                              0.2.61\n",
            "zict                                  3.0.0\n",
            "zipp                                  3.21.0\n",
            "zstandard                             0.23.0\n"
          ]
        }
      ]
    },
    {
      "cell_type": "code",
      "source": [
        "!pip list | grep torch"
      ],
      "metadata": {
        "colab": {
          "base_uri": "https://localhost:8080/"
        },
        "id": "nN9Z-96bYufj",
        "outputId": "3e316cb3-021a-44ac-aff7-e7b750ed4cca"
      },
      "execution_count": 88,
      "outputs": [
        {
          "output_type": "stream",
          "name": "stdout",
          "text": [
            "torch                                 2.6.0+cu124\n",
            "torchao                               0.10.0\n",
            "torchaudio                            2.6.0+cu124\n",
            "torchdata                             0.11.0\n",
            "torchsummary                          1.5.1\n",
            "torchtune                             0.6.1\n",
            "torchvision                           0.21.0+cu124\n"
          ]
        }
      ]
    },
    {
      "cell_type": "markdown",
      "source": [
        "grep = global regular expression print"
      ],
      "metadata": {
        "id": "CvDq3sYNZYcB"
      }
    },
    {
      "cell_type": "code",
      "source": [
        "cp = subprocess.run(\n",
        "    [\"grep\", \"test\"],\n",
        "    input = \"123 \\n test 123 \\n test test\\nfinal\",\n",
        "    capture_output=True,\n",
        "    text=True,\n",
        "    check=True,\n",
        "    timeout=100,\n",
        "    # env={} 이런 형식은 대부분의 상황에선 안돌아감.\n",
        ")\n",
        "\n",
        "print(cp.stdout)\n"
      ],
      "metadata": {
        "colab": {
          "base_uri": "https://localhost:8080/"
        },
        "id": "A43DU7uZZFDM",
        "outputId": "29693dbc-ac67-41b3-c00f-d4a904f99dd1"
      },
      "execution_count": 93,
      "outputs": [
        {
          "output_type": "stream",
          "name": "stdout",
          "text": [
            " test 123 \n",
            " test test\n",
            "\n"
          ]
        }
      ]
    },
    {
      "cell_type": "code",
      "source": [
        "out_str = subprocess.getoutput(\"ls -l\")\n",
        "out_str"
      ],
      "metadata": {
        "colab": {
          "base_uri": "https://localhost:8080/",
          "height": 35
        },
        "id": "iSmEtb3FZ-3w",
        "outputId": "4bd8b329-49b0-4dec-e22b-793843740f6d"
      },
      "execution_count": 96,
      "outputs": [
        {
          "output_type": "execute_result",
          "data": {
            "text/plain": [
              "'total 4\\ndrwxr-xr-x 1 root root 4096 May 14 13:38 sample_data'"
            ],
            "application/vnd.google.colaboratory.intrinsic+json": {
              "type": "string"
            }
          },
          "metadata": {},
          "execution_count": 96
        }
      ]
    },
    {
      "cell_type": "code",
      "source": [
        "type(out_str)"
      ],
      "metadata": {
        "colab": {
          "base_uri": "https://localhost:8080/"
        },
        "id": "5NMueoTGaGoW",
        "outputId": "5860451d-7dca-4546-8137-9a7536a089b3"
      },
      "execution_count": 101,
      "outputs": [
        {
          "output_type": "execute_result",
          "data": {
            "text/plain": [
              "str"
            ]
          },
          "metadata": {},
          "execution_count": 101
        }
      ]
    },
    {
      "cell_type": "code",
      "source": [
        "!uname"
      ],
      "metadata": {
        "colab": {
          "base_uri": "https://localhost:8080/"
        },
        "id": "d-YSo9E4awe-",
        "outputId": "3069f067-c6fc-4c86-e46c-ed8adba3a937"
      },
      "execution_count": 102,
      "outputs": [
        {
          "output_type": "stream",
          "name": "stdout",
          "text": [
            "Linux\n"
          ]
        }
      ]
    },
    {
      "cell_type": "code",
      "source": [
        "os_name = subprocess.getoutput(\"uname\")\n",
        "os_name"
      ],
      "metadata": {
        "colab": {
          "base_uri": "https://localhost:8080/",
          "height": 35
        },
        "id": "7rMtkuBiayO7",
        "outputId": "8c343762-4f27-44ed-a483-f4556ac5e4ee"
      },
      "execution_count": 103,
      "outputs": [
        {
          "output_type": "execute_result",
          "data": {
            "text/plain": [
              "'Linux'"
            ],
            "application/vnd.google.colaboratory.intrinsic+json": {
              "type": "string"
            }
          },
          "metadata": {},
          "execution_count": 103
        }
      ]
    },
    {
      "cell_type": "markdown",
      "source": [
        "이 방식이 많이 쓰이는 이유는 결과에서의 문자열을 보고 하기 때문."
      ],
      "metadata": {
        "id": "wECLnzIIa68a"
      }
    },
    {
      "cell_type": "code",
      "source": [
        "out_str = subprocess.check_output(\n",
        "    [\"echo\", \"Hello, check_output!\"],\n",
        "    text=True,\n",
        ")\n",
        "\n",
        "print(out_str)"
      ],
      "metadata": {
        "colab": {
          "base_uri": "https://localhost:8080/"
        },
        "id": "Ja-u51p9a3Pu",
        "outputId": "c3c0f4a1-4bfd-4b54-c2eb-1077d0728318"
      },
      "execution_count": 104,
      "outputs": [
        {
          "output_type": "stream",
          "name": "stdout",
          "text": [
            "Hello, check_output!\n",
            "\n"
          ]
        }
      ]
    },
    {
      "cell_type": "code",
      "source": [
        "out_str = subprocess.check_output(\n",
        "    [\"echo\", \"Hello, check_output!\"],\n",
        "    text=True,\n",
        ")\n",
        "\n",
        "out_str\n"
      ],
      "metadata": {
        "colab": {
          "base_uri": "https://localhost:8080/",
          "height": 35
        },
        "id": "XJStp7rwbZlZ",
        "outputId": "f95b2ada-e1da-4fb1-b990-a0c3563e5acb"
      },
      "execution_count": 106,
      "outputs": [
        {
          "output_type": "execute_result",
          "data": {
            "text/plain": [
              "'Hello, check_output!\\n'"
            ],
            "application/vnd.google.colaboratory.intrinsic+json": {
              "type": "string"
            }
          },
          "metadata": {},
          "execution_count": 106
        }
      ]
    },
    {
      "cell_type": "markdown",
      "source": [
        "이것의 약점은 stdout만 쓰고, 에러를 발생시키는게 가능해짐"
      ],
      "metadata": {
        "id": "b0MK-as6bRsJ"
      }
    },
    {
      "cell_type": "markdown",
      "source": [
        "동기적인 것들 3개 중 안전을 위해, run()과 check_output()만 사용을 권장"
      ],
      "metadata": {
        "id": "wqKpnWnibo_q"
      }
    },
    {
      "cell_type": "markdown",
      "source": [
        "-----------------------------------------------------------\n",
        "이 아래는 나머지 비동기적인 것."
      ],
      "metadata": {
        "id": "F4ZE518UbzhB"
      }
    },
    {
      "cell_type": "code",
      "source": [
        "!apt-get install -y iputils-ping"
      ],
      "metadata": {
        "colab": {
          "base_uri": "https://localhost:8080/"
        },
        "id": "xs-awIq_b8Zh",
        "outputId": "34c95859-2568-4575-d433-406334cfaed8"
      },
      "execution_count": 111,
      "outputs": [
        {
          "output_type": "stream",
          "name": "stdout",
          "text": [
            "Reading package lists... Done\n",
            "Building dependency tree... Done\n",
            "Reading state information... Done\n",
            "The following NEW packages will be installed:\n",
            "  iputils-ping\n",
            "0 upgraded, 1 newly installed, 0 to remove and 95 not upgraded.\n",
            "Need to get 42.9 kB of archives.\n",
            "After this operation, 116 kB of additional disk space will be used.\n",
            "Get:1 http://archive.ubuntu.com/ubuntu jammy/main amd64 iputils-ping amd64 3:20211215-1 [42.9 kB]\n",
            "Fetched 42.9 kB in 0s (130 kB/s)\n",
            "Selecting previously unselected package iputils-ping.\n",
            "(Reading database ... 126117 files and directories currently installed.)\n",
            "Preparing to unpack .../iputils-ping_3%3a20211215-1_amd64.deb ...\n",
            "Unpacking iputils-ping (3:20211215-1) ...\n",
            "Setting up iputils-ping (3:20211215-1) ...\n",
            "Processing triggers for man-db (2.10.2-1) ...\n"
          ]
        }
      ]
    },
    {
      "cell_type": "code",
      "source": [
        "!ping google.com"
      ],
      "metadata": {
        "colab": {
          "base_uri": "https://localhost:8080/"
        },
        "id": "-i05cmv8cicK",
        "outputId": "84b0bf12-5eae-4bff-b988-44e7bb0af580"
      },
      "execution_count": 115,
      "outputs": [
        {
          "output_type": "stream",
          "name": "stdout",
          "text": [
            "PING google.com (142.250.153.102) 56(84) bytes of data.\n",
            "64 bytes from ea-in-f102.1e100.net (142.250.153.102): icmp_seq=1 ttl=114 time=0.317 ms\n",
            "64 bytes from ea-in-f102.1e100.net (142.250.153.102): icmp_seq=2 ttl=114 time=0.403 ms\n",
            "64 bytes from ea-in-f102.1e100.net (142.250.153.102): icmp_seq=3 ttl=114 time=0.421 ms\n",
            "64 bytes from ea-in-f102.1e100.net (142.250.153.102): icmp_seq=4 ttl=114 time=0.414 ms\n",
            "64 bytes from ea-in-f102.1e100.net (142.250.153.102): icmp_seq=5 ttl=114 time=0.422 ms\n",
            "64 bytes from ea-in-f102.1e100.net (142.250.153.102): icmp_seq=6 ttl=114 time=0.403 ms\n",
            "64 bytes from ea-in-f102.1e100.net (142.250.153.102): icmp_seq=7 ttl=114 time=0.400 ms\n",
            "64 bytes from ea-in-f102.1e100.net (142.250.153.102): icmp_seq=8 ttl=114 time=0.448 ms\n",
            "64 bytes from ea-in-f102.1e100.net (142.250.153.102): icmp_seq=9 ttl=114 time=0.438 ms\n",
            "\n",
            "--- google.com ping statistics ---\n",
            "9 packets transmitted, 9 received, 0% packet loss, time 8009ms\n",
            "rtt min/avg/max/mdev = 0.317/0.407/0.448/0.035 ms\n"
          ]
        }
      ]
    },
    {
      "cell_type": "code",
      "source": [
        "ins_popen = subprocess.Popen(\n",
        "    [\"ping\", \"google.com\"],\n",
        "    stdout=subprocess.PIPE,\n",
        "    stderr=subprocess.PIPE,\n",
        "    text=True,\n",
        ")\n"
      ],
      "metadata": {
        "id": "UQkr3qmJbO-M"
      },
      "execution_count": 118,
      "outputs": []
    },
    {
      "cell_type": "code",
      "source": [
        "ins_popen.pid"
      ],
      "metadata": {
        "colab": {
          "base_uri": "https://localhost:8080/"
        },
        "id": "BwdsBvV7dH-r",
        "outputId": "bf0cb1e2-561d-49ba-9e01-30070516cb19"
      },
      "execution_count": 119,
      "outputs": [
        {
          "output_type": "execute_result",
          "data": {
            "text/plain": [
              "40607"
            ]
          },
          "metadata": {},
          "execution_count": 119
        }
      ]
    },
    {
      "cell_type": "code",
      "source": [
        "from time import sleep\n",
        "while ins_popen.poll() is None:\n",
        "  print(\"still running\")\n",
        "  print(f\"{ins_popen.stdout.readline()}\")\n",
        "  sleep(1)"
      ],
      "metadata": {
        "colab": {
          "base_uri": "https://localhost:8080/",
          "height": 1000
        },
        "id": "22nh_aJFdua5",
        "outputId": "896a93ea-7ae1-4c68-bc0f-5670f96efe70"
      },
      "execution_count": 123,
      "outputs": [
        {
          "output_type": "stream",
          "name": "stdout",
          "text": [
            "still running\n",
            "PING google.com (173.194.69.102) 56(84) bytes of data.\n",
            "\n",
            "still running\n",
            "64 bytes from ef-in-f102.1e100.net (173.194.69.102): icmp_seq=1 ttl=114 time=0.839 ms\n",
            "\n",
            "still running\n",
            "64 bytes from ef-in-f102.1e100.net (173.194.69.102): icmp_seq=2 ttl=114 time=0.906 ms\n",
            "\n",
            "still running\n",
            "64 bytes from ef-in-f102.1e100.net (173.194.69.102): icmp_seq=3 ttl=114 time=1.02 ms\n",
            "\n",
            "still running\n",
            "64 bytes from ef-in-f102.1e100.net (173.194.69.102): icmp_seq=4 ttl=114 time=1.01 ms\n",
            "\n",
            "still running\n",
            "64 bytes from ef-in-f102.1e100.net (173.194.69.102): icmp_seq=5 ttl=114 time=0.955 ms\n",
            "\n",
            "still running\n",
            "64 bytes from ef-in-f102.1e100.net (173.194.69.102): icmp_seq=6 ttl=114 time=0.930 ms\n",
            "\n",
            "still running\n",
            "64 bytes from ef-in-f102.1e100.net (173.194.69.102): icmp_seq=7 ttl=114 time=0.912 ms\n",
            "\n",
            "still running\n",
            "64 bytes from ef-in-f102.1e100.net (173.194.69.102): icmp_seq=8 ttl=114 time=0.919 ms\n",
            "\n",
            "still running\n",
            "64 bytes from ef-in-f102.1e100.net (173.194.69.102): icmp_seq=9 ttl=114 time=0.890 ms\n",
            "\n",
            "still running\n",
            "64 bytes from ef-in-f102.1e100.net (173.194.69.102): icmp_seq=10 ttl=114 time=0.965 ms\n",
            "\n",
            "still running\n",
            "64 bytes from ef-in-f102.1e100.net (173.194.69.102): icmp_seq=11 ttl=114 time=0.928 ms\n",
            "\n",
            "still running\n",
            "64 bytes from ef-in-f102.1e100.net (173.194.69.102): icmp_seq=12 ttl=114 time=0.934 ms\n",
            "\n",
            "still running\n",
            "64 bytes from ef-in-f102.1e100.net (173.194.69.102): icmp_seq=13 ttl=114 time=0.974 ms\n",
            "\n",
            "still running\n",
            "64 bytes from ef-in-f102.1e100.net (173.194.69.102): icmp_seq=14 ttl=114 time=1.03 ms\n",
            "\n",
            "still running\n",
            "64 bytes from ef-in-f102.1e100.net (173.194.69.102): icmp_seq=15 ttl=114 time=1.01 ms\n",
            "\n",
            "still running\n",
            "64 bytes from ef-in-f102.1e100.net (173.194.69.102): icmp_seq=16 ttl=114 time=0.946 ms\n",
            "\n",
            "still running\n",
            "64 bytes from ef-in-f102.1e100.net (173.194.69.102): icmp_seq=17 ttl=114 time=0.953 ms\n",
            "\n",
            "still running\n",
            "64 bytes from ef-in-f102.1e100.net (173.194.69.102): icmp_seq=18 ttl=114 time=0.904 ms\n",
            "\n",
            "still running\n",
            "64 bytes from ef-in-f102.1e100.net (173.194.69.102): icmp_seq=19 ttl=114 time=0.969 ms\n",
            "\n",
            "still running\n",
            "64 bytes from ef-in-f102.1e100.net (173.194.69.102): icmp_seq=20 ttl=114 time=0.989 ms\n",
            "\n",
            "still running\n",
            "64 bytes from ef-in-f102.1e100.net (173.194.69.102): icmp_seq=21 ttl=114 time=0.954 ms\n",
            "\n",
            "still running\n",
            "64 bytes from ef-in-f102.1e100.net (173.194.69.102): icmp_seq=22 ttl=114 time=0.899 ms\n",
            "\n",
            "still running\n",
            "64 bytes from ef-in-f102.1e100.net (173.194.69.102): icmp_seq=23 ttl=114 time=0.840 ms\n",
            "\n",
            "still running\n",
            "64 bytes from ef-in-f102.1e100.net (173.194.69.102): icmp_seq=24 ttl=114 time=0.890 ms\n",
            "\n",
            "still running\n",
            "64 bytes from ef-in-f102.1e100.net (173.194.69.102): icmp_seq=25 ttl=114 time=1.01 ms\n",
            "\n",
            "still running\n",
            "64 bytes from ef-in-f102.1e100.net (173.194.69.102): icmp_seq=26 ttl=114 time=0.914 ms\n",
            "\n",
            "still running\n",
            "64 bytes from ef-in-f102.1e100.net (173.194.69.102): icmp_seq=27 ttl=114 time=0.987 ms\n",
            "\n",
            "still running\n",
            "64 bytes from ef-in-f102.1e100.net (173.194.69.102): icmp_seq=28 ttl=114 time=0.930 ms\n",
            "\n",
            "still running\n",
            "64 bytes from ef-in-f102.1e100.net (173.194.69.102): icmp_seq=29 ttl=114 time=0.850 ms\n",
            "\n",
            "still running\n",
            "64 bytes from ef-in-f102.1e100.net (173.194.69.102): icmp_seq=30 ttl=114 time=0.999 ms\n",
            "\n",
            "still running\n",
            "64 bytes from ef-in-f102.1e100.net (173.194.69.102): icmp_seq=31 ttl=114 time=0.904 ms\n",
            "\n",
            "still running\n",
            "64 bytes from ef-in-f102.1e100.net (173.194.69.102): icmp_seq=32 ttl=114 time=1.03 ms\n",
            "\n",
            "still running\n",
            "64 bytes from ef-in-f102.1e100.net (173.194.69.102): icmp_seq=33 ttl=114 time=0.918 ms\n",
            "\n",
            "still running\n",
            "64 bytes from ef-in-f102.1e100.net (173.194.69.102): icmp_seq=34 ttl=114 time=0.979 ms\n",
            "\n",
            "still running\n",
            "64 bytes from ef-in-f102.1e100.net (173.194.69.102): icmp_seq=35 ttl=114 time=0.920 ms\n",
            "\n",
            "still running\n",
            "64 bytes from ef-in-f102.1e100.net (173.194.69.102): icmp_seq=36 ttl=114 time=1.01 ms\n",
            "\n",
            "still running\n",
            "64 bytes from ef-in-f102.1e100.net (173.194.69.102): icmp_seq=37 ttl=114 time=0.987 ms\n",
            "\n",
            "still running\n",
            "64 bytes from ef-in-f102.1e100.net (173.194.69.102): icmp_seq=38 ttl=114 time=0.999 ms\n",
            "\n",
            "still running\n",
            "64 bytes from ef-in-f102.1e100.net (173.194.69.102): icmp_seq=39 ttl=114 time=1.06 ms\n",
            "\n",
            "still running\n",
            "64 bytes from ef-in-f102.1e100.net (173.194.69.102): icmp_seq=40 ttl=114 time=0.946 ms\n",
            "\n",
            "still running\n",
            "64 bytes from ef-in-f102.1e100.net (173.194.69.102): icmp_seq=41 ttl=114 time=0.929 ms\n",
            "\n",
            "still running\n",
            "64 bytes from ef-in-f102.1e100.net (173.194.69.102): icmp_seq=42 ttl=114 time=0.965 ms\n",
            "\n",
            "still running\n",
            "64 bytes from ef-in-f102.1e100.net (173.194.69.102): icmp_seq=43 ttl=114 time=0.978 ms\n",
            "\n",
            "still running\n",
            "64 bytes from ef-in-f102.1e100.net (173.194.69.102): icmp_seq=44 ttl=114 time=1.02 ms\n",
            "\n",
            "still running\n",
            "64 bytes from ef-in-f102.1e100.net (173.194.69.102): icmp_seq=45 ttl=114 time=1.02 ms\n",
            "\n",
            "still running\n",
            "64 bytes from ef-in-f102.1e100.net (173.194.69.102): icmp_seq=46 ttl=114 time=1.00 ms\n",
            "\n",
            "still running\n",
            "64 bytes from ef-in-f102.1e100.net (173.194.69.102): icmp_seq=47 ttl=114 time=1.02 ms\n",
            "\n",
            "still running\n",
            "64 bytes from ef-in-f102.1e100.net (173.194.69.102): icmp_seq=48 ttl=114 time=0.918 ms\n",
            "\n",
            "still running\n",
            "64 bytes from ef-in-f102.1e100.net (173.194.69.102): icmp_seq=49 ttl=114 time=0.967 ms\n",
            "\n",
            "still running\n",
            "64 bytes from ef-in-f102.1e100.net (173.194.69.102): icmp_seq=50 ttl=114 time=0.872 ms\n",
            "\n",
            "still running\n",
            "64 bytes from ef-in-f102.1e100.net (173.194.69.102): icmp_seq=51 ttl=114 time=0.946 ms\n",
            "\n",
            "still running\n",
            "64 bytes from ef-in-f102.1e100.net (173.194.69.102): icmp_seq=52 ttl=114 time=0.964 ms\n",
            "\n",
            "still running\n",
            "64 bytes from ef-in-f102.1e100.net (173.194.69.102): icmp_seq=53 ttl=114 time=0.891 ms\n",
            "\n",
            "still running\n",
            "64 bytes from ef-in-f102.1e100.net (173.194.69.102): icmp_seq=54 ttl=114 time=0.936 ms\n",
            "\n",
            "still running\n",
            "64 bytes from ef-in-f102.1e100.net (173.194.69.102): icmp_seq=55 ttl=114 time=0.904 ms\n",
            "\n",
            "still running\n",
            "64 bytes from ef-in-f102.1e100.net (173.194.69.102): icmp_seq=56 ttl=114 time=0.944 ms\n",
            "\n",
            "still running\n",
            "64 bytes from ef-in-f102.1e100.net (173.194.69.102): icmp_seq=57 ttl=114 time=0.924 ms\n",
            "\n",
            "still running\n",
            "64 bytes from ef-in-f102.1e100.net (173.194.69.102): icmp_seq=58 ttl=114 time=0.952 ms\n",
            "\n",
            "still running\n",
            "64 bytes from ef-in-f102.1e100.net (173.194.69.102): icmp_seq=59 ttl=114 time=1.04 ms\n",
            "\n",
            "still running\n",
            "64 bytes from ef-in-f102.1e100.net (173.194.69.102): icmp_seq=60 ttl=114 time=1.01 ms\n",
            "\n",
            "still running\n",
            "64 bytes from ef-in-f102.1e100.net (173.194.69.102): icmp_seq=61 ttl=114 time=1.04 ms\n",
            "\n",
            "still running\n",
            "64 bytes from ef-in-f102.1e100.net (173.194.69.102): icmp_seq=62 ttl=114 time=0.924 ms\n",
            "\n",
            "still running\n",
            "64 bytes from ef-in-f102.1e100.net (173.194.69.102): icmp_seq=63 ttl=114 time=0.894 ms\n",
            "\n",
            "still running\n",
            "64 bytes from ef-in-f102.1e100.net (173.194.69.102): icmp_seq=64 ttl=114 time=0.940 ms\n",
            "\n",
            "still running\n",
            "64 bytes from ef-in-f102.1e100.net (173.194.69.102): icmp_seq=65 ttl=114 time=0.967 ms\n",
            "\n",
            "still running\n",
            "64 bytes from ef-in-f102.1e100.net (173.194.69.102): icmp_seq=66 ttl=114 time=0.920 ms\n",
            "\n",
            "still running\n",
            "64 bytes from ef-in-f102.1e100.net (173.194.69.102): icmp_seq=67 ttl=114 time=0.881 ms\n",
            "\n",
            "still running\n",
            "64 bytes from ef-in-f102.1e100.net (173.194.69.102): icmp_seq=68 ttl=114 time=0.934 ms\n",
            "\n",
            "still running\n",
            "64 bytes from ef-in-f102.1e100.net (173.194.69.102): icmp_seq=69 ttl=114 time=0.880 ms\n",
            "\n",
            "still running\n",
            "64 bytes from ef-in-f102.1e100.net (173.194.69.102): icmp_seq=70 ttl=114 time=0.908 ms\n",
            "\n",
            "still running\n",
            "64 bytes from ef-in-f102.1e100.net (173.194.69.102): icmp_seq=71 ttl=114 time=0.939 ms\n",
            "\n",
            "still running\n",
            "64 bytes from ef-in-f102.1e100.net (173.194.69.102): icmp_seq=72 ttl=114 time=0.966 ms\n",
            "\n",
            "still running\n",
            "64 bytes from ef-in-f102.1e100.net (173.194.69.102): icmp_seq=73 ttl=114 time=0.959 ms\n",
            "\n",
            "still running\n",
            "64 bytes from ef-in-f102.1e100.net (173.194.69.102): icmp_seq=74 ttl=114 time=0.971 ms\n",
            "\n",
            "still running\n",
            "64 bytes from ef-in-f102.1e100.net (173.194.69.102): icmp_seq=75 ttl=114 time=0.910 ms\n",
            "\n",
            "still running\n",
            "64 bytes from ef-in-f102.1e100.net (173.194.69.102): icmp_seq=76 ttl=114 time=0.961 ms\n",
            "\n",
            "still running\n",
            "64 bytes from ef-in-f102.1e100.net (173.194.69.102): icmp_seq=77 ttl=114 time=0.932 ms\n",
            "\n",
            "still running\n",
            "64 bytes from ef-in-f102.1e100.net (173.194.69.102): icmp_seq=78 ttl=114 time=0.986 ms\n",
            "\n",
            "still running\n",
            "64 bytes from ef-in-f102.1e100.net (173.194.69.102): icmp_seq=79 ttl=114 time=0.952 ms\n",
            "\n",
            "still running\n",
            "64 bytes from ef-in-f102.1e100.net (173.194.69.102): icmp_seq=80 ttl=114 time=0.977 ms\n",
            "\n",
            "still running\n",
            "64 bytes from ef-in-f102.1e100.net (173.194.69.102): icmp_seq=81 ttl=114 time=0.864 ms\n",
            "\n",
            "still running\n",
            "64 bytes from ef-in-f102.1e100.net (173.194.69.102): icmp_seq=82 ttl=114 time=0.909 ms\n",
            "\n",
            "still running\n",
            "64 bytes from ef-in-f102.1e100.net (173.194.69.102): icmp_seq=83 ttl=114 time=0.915 ms\n",
            "\n",
            "still running\n",
            "64 bytes from ef-in-f102.1e100.net (173.194.69.102): icmp_seq=84 ttl=114 time=0.872 ms\n",
            "\n",
            "still running\n",
            "64 bytes from ef-in-f102.1e100.net (173.194.69.102): icmp_seq=85 ttl=114 time=0.904 ms\n",
            "\n",
            "still running\n",
            "64 bytes from ef-in-f102.1e100.net (173.194.69.102): icmp_seq=86 ttl=114 time=0.935 ms\n",
            "\n",
            "still running\n",
            "64 bytes from ef-in-f102.1e100.net (173.194.69.102): icmp_seq=87 ttl=114 time=0.991 ms\n",
            "\n",
            "still running\n",
            "64 bytes from ef-in-f102.1e100.net (173.194.69.102): icmp_seq=88 ttl=114 time=0.876 ms\n",
            "\n",
            "still running\n",
            "64 bytes from ef-in-f102.1e100.net (173.194.69.102): icmp_seq=89 ttl=114 time=0.971 ms\n",
            "\n",
            "still running\n",
            "64 bytes from ef-in-f102.1e100.net (173.194.69.102): icmp_seq=90 ttl=114 time=0.957 ms\n",
            "\n",
            "still running\n",
            "64 bytes from ef-in-f102.1e100.net (173.194.69.102): icmp_seq=91 ttl=114 time=0.952 ms\n",
            "\n",
            "still running\n",
            "64 bytes from ef-in-f102.1e100.net (173.194.69.102): icmp_seq=92 ttl=114 time=0.923 ms\n",
            "\n",
            "still running\n",
            "64 bytes from ef-in-f102.1e100.net (173.194.69.102): icmp_seq=93 ttl=114 time=0.871 ms\n",
            "\n",
            "still running\n",
            "64 bytes from ef-in-f102.1e100.net (173.194.69.102): icmp_seq=94 ttl=114 time=0.938 ms\n",
            "\n",
            "still running\n",
            "64 bytes from ef-in-f102.1e100.net (173.194.69.102): icmp_seq=95 ttl=114 time=0.942 ms\n",
            "\n",
            "still running\n",
            "64 bytes from ef-in-f102.1e100.net (173.194.69.102): icmp_seq=96 ttl=114 time=0.919 ms\n",
            "\n",
            "still running\n",
            "64 bytes from ef-in-f102.1e100.net (173.194.69.102): icmp_seq=97 ttl=114 time=0.946 ms\n",
            "\n",
            "still running\n",
            "64 bytes from ef-in-f102.1e100.net (173.194.69.102): icmp_seq=98 ttl=114 time=0.942 ms\n",
            "\n",
            "still running\n",
            "64 bytes from ef-in-f102.1e100.net (173.194.69.102): icmp_seq=99 ttl=114 time=0.829 ms\n",
            "\n",
            "still running\n",
            "64 bytes from ef-in-f102.1e100.net (173.194.69.102): icmp_seq=100 ttl=114 time=0.867 ms\n",
            "\n",
            "still running\n",
            "64 bytes from ef-in-f102.1e100.net (173.194.69.102): icmp_seq=101 ttl=114 time=0.935 ms\n",
            "\n",
            "still running\n",
            "64 bytes from ef-in-f102.1e100.net (173.194.69.102): icmp_seq=102 ttl=114 time=0.912 ms\n",
            "\n",
            "still running\n",
            "64 bytes from ef-in-f102.1e100.net (173.194.69.102): icmp_seq=103 ttl=114 time=0.946 ms\n",
            "\n",
            "still running\n",
            "64 bytes from ef-in-f102.1e100.net (173.194.69.102): icmp_seq=104 ttl=114 time=0.941 ms\n",
            "\n",
            "still running\n",
            "64 bytes from ef-in-f102.1e100.net (173.194.69.102): icmp_seq=105 ttl=114 time=0.923 ms\n",
            "\n",
            "still running\n",
            "64 bytes from ef-in-f102.1e100.net (173.194.69.102): icmp_seq=106 ttl=114 time=0.944 ms\n",
            "\n",
            "still running\n",
            "64 bytes from ef-in-f102.1e100.net (173.194.69.102): icmp_seq=107 ttl=114 time=0.974 ms\n",
            "\n",
            "still running\n",
            "64 bytes from ef-in-f102.1e100.net (173.194.69.102): icmp_seq=108 ttl=114 time=0.855 ms\n",
            "\n",
            "still running\n",
            "64 bytes from ef-in-f102.1e100.net (173.194.69.102): icmp_seq=109 ttl=114 time=0.915 ms\n",
            "\n",
            "still running\n",
            "64 bytes from ef-in-f102.1e100.net (173.194.69.102): icmp_seq=110 ttl=114 time=0.902 ms\n",
            "\n",
            "still running\n",
            "64 bytes from ef-in-f102.1e100.net (173.194.69.102): icmp_seq=111 ttl=114 time=0.976 ms\n",
            "\n",
            "still running\n",
            "64 bytes from ef-in-f102.1e100.net (173.194.69.102): icmp_seq=112 ttl=114 time=0.911 ms\n",
            "\n",
            "still running\n",
            "64 bytes from ef-in-f102.1e100.net (173.194.69.102): icmp_seq=113 ttl=114 time=0.922 ms\n",
            "\n",
            "still running\n",
            "64 bytes from ef-in-f102.1e100.net (173.194.69.102): icmp_seq=114 ttl=114 time=0.906 ms\n",
            "\n",
            "still running\n",
            "64 bytes from ef-in-f102.1e100.net (173.194.69.102): icmp_seq=115 ttl=114 time=0.978 ms\n",
            "\n",
            "still running\n",
            "64 bytes from ef-in-f102.1e100.net (173.194.69.102): icmp_seq=116 ttl=114 time=0.866 ms\n",
            "\n",
            "still running\n",
            "64 bytes from ef-in-f102.1e100.net (173.194.69.102): icmp_seq=117 ttl=114 time=0.873 ms\n",
            "\n",
            "still running\n",
            "64 bytes from ef-in-f102.1e100.net (173.194.69.102): icmp_seq=118 ttl=114 time=0.915 ms\n",
            "\n",
            "still running\n",
            "64 bytes from ef-in-f102.1e100.net (173.194.69.102): icmp_seq=119 ttl=114 time=0.862 ms\n",
            "\n",
            "still running\n",
            "64 bytes from ef-in-f102.1e100.net (173.194.69.102): icmp_seq=120 ttl=114 time=0.858 ms\n",
            "\n",
            "still running\n",
            "64 bytes from ef-in-f102.1e100.net (173.194.69.102): icmp_seq=121 ttl=114 time=0.910 ms\n",
            "\n",
            "still running\n",
            "64 bytes from ef-in-f102.1e100.net (173.194.69.102): icmp_seq=122 ttl=114 time=0.960 ms\n",
            "\n",
            "still running\n",
            "64 bytes from ef-in-f102.1e100.net (173.194.69.102): icmp_seq=123 ttl=114 time=0.908 ms\n",
            "\n",
            "still running\n",
            "64 bytes from ef-in-f102.1e100.net (173.194.69.102): icmp_seq=124 ttl=114 time=0.919 ms\n",
            "\n",
            "still running\n",
            "64 bytes from ef-in-f102.1e100.net (173.194.69.102): icmp_seq=125 ttl=114 time=0.889 ms\n",
            "\n",
            "still running\n",
            "64 bytes from ef-in-f102.1e100.net (173.194.69.102): icmp_seq=126 ttl=114 time=1.02 ms\n",
            "\n",
            "still running\n",
            "64 bytes from ef-in-f102.1e100.net (173.194.69.102): icmp_seq=127 ttl=114 time=0.867 ms\n",
            "\n",
            "still running\n",
            "64 bytes from ef-in-f102.1e100.net (173.194.69.102): icmp_seq=128 ttl=114 time=0.903 ms\n",
            "\n",
            "still running\n",
            "64 bytes from ef-in-f102.1e100.net (173.194.69.102): icmp_seq=129 ttl=114 time=0.864 ms\n",
            "\n",
            "still running\n",
            "64 bytes from ef-in-f102.1e100.net (173.194.69.102): icmp_seq=130 ttl=114 time=0.847 ms\n",
            "\n",
            "still running\n",
            "64 bytes from ef-in-f102.1e100.net (173.194.69.102): icmp_seq=131 ttl=114 time=0.898 ms\n",
            "\n",
            "still running\n",
            "64 bytes from ef-in-f102.1e100.net (173.194.69.102): icmp_seq=132 ttl=114 time=0.887 ms\n",
            "\n",
            "still running\n",
            "64 bytes from ef-in-f102.1e100.net (173.194.69.102): icmp_seq=133 ttl=114 time=0.959 ms\n",
            "\n",
            "still running\n",
            "64 bytes from ef-in-f102.1e100.net (173.194.69.102): icmp_seq=134 ttl=114 time=0.957 ms\n",
            "\n",
            "still running\n",
            "64 bytes from ef-in-f102.1e100.net (173.194.69.102): icmp_seq=135 ttl=114 time=0.872 ms\n",
            "\n",
            "still running\n",
            "64 bytes from ef-in-f102.1e100.net (173.194.69.102): icmp_seq=136 ttl=114 time=0.940 ms\n",
            "\n",
            "still running\n",
            "64 bytes from ef-in-f102.1e100.net (173.194.69.102): icmp_seq=137 ttl=114 time=0.859 ms\n",
            "\n",
            "still running\n",
            "64 bytes from ef-in-f102.1e100.net (173.194.69.102): icmp_seq=138 ttl=114 time=0.858 ms\n",
            "\n",
            "still running\n",
            "64 bytes from ef-in-f102.1e100.net (173.194.69.102): icmp_seq=139 ttl=114 time=0.905 ms\n",
            "\n",
            "still running\n",
            "64 bytes from ef-in-f102.1e100.net (173.194.69.102): icmp_seq=140 ttl=114 time=0.915 ms\n",
            "\n"
          ]
        },
        {
          "output_type": "error",
          "ename": "KeyboardInterrupt",
          "evalue": "",
          "traceback": [
            "\u001b[0;31m---------------------------------------------------------------------------\u001b[0m",
            "\u001b[0;31mKeyboardInterrupt\u001b[0m                         Traceback (most recent call last)",
            "\u001b[0;32m<ipython-input-123-2ecc882b441f>\u001b[0m in \u001b[0;36m<cell line: 0>\u001b[0;34m()\u001b[0m\n\u001b[1;32m      3\u001b[0m   \u001b[0mprint\u001b[0m\u001b[0;34m(\u001b[0m\u001b[0;34m\"still running\"\u001b[0m\u001b[0;34m)\u001b[0m\u001b[0;34m\u001b[0m\u001b[0;34m\u001b[0m\u001b[0m\n\u001b[1;32m      4\u001b[0m   \u001b[0mprint\u001b[0m\u001b[0;34m(\u001b[0m\u001b[0;34mf\"{ins_popen.stdout.readline()}\"\u001b[0m\u001b[0;34m)\u001b[0m\u001b[0;34m\u001b[0m\u001b[0;34m\u001b[0m\u001b[0m\n\u001b[0;32m----> 5\u001b[0;31m   \u001b[0msleep\u001b[0m\u001b[0;34m(\u001b[0m\u001b[0;36m1\u001b[0m\u001b[0;34m)\u001b[0m\u001b[0;34m\u001b[0m\u001b[0;34m\u001b[0m\u001b[0m\n\u001b[0m",
            "\u001b[0;31mKeyboardInterrupt\u001b[0m: "
          ]
        }
      ]
    },
    {
      "cell_type": "code",
      "source": [
        "stdout, stderr = ins_popen.communicate()\n",
        "print(f\"[{stdout}]\")\n",
        "print(f\"[{stderr}]\")"
      ],
      "metadata": {
        "id": "o2IipamgeYJ5"
      },
      "execution_count": null,
      "outputs": []
    },
    {
      "cell_type": "code",
      "source": [
        "ins_popen.returncode"
      ],
      "metadata": {
        "id": "YnOC4CSudZgJ"
      },
      "execution_count": null,
      "outputs": []
    },
    {
      "cell_type": "code",
      "source": [
        "ins_popen.poll()"
      ],
      "metadata": {
        "id": "zly-SJjEdgfh"
      },
      "execution_count": null,
      "outputs": []
    },
    {
      "cell_type": "code",
      "source": [
        "import asyncio # 어떠한 func을 동기를 비동기로 바꿔줌."
      ],
      "metadata": {
        "id": "Sj59plrNe5U6"
      },
      "execution_count": 125,
      "outputs": []
    },
    {
      "cell_type": "code",
      "source": [
        "import os; os.environ"
      ],
      "metadata": {
        "colab": {
          "base_uri": "https://localhost:8080/"
        },
        "id": "kXiGtDiEe86g",
        "outputId": "c8f21f56-9367-4b77-9abb-9117a5f0ec7f"
      },
      "execution_count": 127,
      "outputs": [
        {
          "output_type": "execute_result",
          "data": {
            "text/plain": [
              "environ{'SHELL': '/bin/bash',\n",
              "        'NV_LIBCUBLAS_VERSION': '12.5.3.2-1',\n",
              "        'NVIDIA_VISIBLE_DEVICES': 'all',\n",
              "        'COLAB_JUPYTER_TRANSPORT': 'ipc',\n",
              "        'NV_NVML_DEV_VERSION': '12.5.82-1',\n",
              "        'NV_CUDNN_PACKAGE_NAME': 'libcudnn9-cuda-12',\n",
              "        'CGROUP_MEMORY_EVENTS': '/sys/fs/cgroup/memory.events /var/colab/cgroup/jupyter-children/memory.events',\n",
              "        'NV_LIBNCCL_DEV_PACKAGE': 'libnccl-dev=2.22.3-1+cuda12.5',\n",
              "        'NV_LIBNCCL_DEV_PACKAGE_VERSION': '2.22.3-1',\n",
              "        'VM_GCE_METADATA_HOST': '169.254.169.253',\n",
              "        'HOSTNAME': 'e4586a8c974d',\n",
              "        'LANGUAGE': 'en_US',\n",
              "        'TBE_RUNTIME_ADDR': '172.28.0.1:8011',\n",
              "        'COLAB_TPU_1VM': '',\n",
              "        'GCE_METADATA_TIMEOUT': '3',\n",
              "        'NVIDIA_REQUIRE_CUDA': 'cuda>=12.5 brand=unknown,driver>=470,driver<471 brand=grid,driver>=470,driver<471 brand=tesla,driver>=470,driver<471 brand=nvidia,driver>=470,driver<471 brand=quadro,driver>=470,driver<471 brand=quadrortx,driver>=470,driver<471 brand=nvidiartx,driver>=470,driver<471 brand=vapps,driver>=470,driver<471 brand=vpc,driver>=470,driver<471 brand=vcs,driver>=470,driver<471 brand=vws,driver>=470,driver<471 brand=cloudgaming,driver>=470,driver<471 brand=unknown,driver>=535,driver<536 brand=grid,driver>=535,driver<536 brand=tesla,driver>=535,driver<536 brand=nvidia,driver>=535,driver<536 brand=quadro,driver>=535,driver<536 brand=quadrortx,driver>=535,driver<536 brand=nvidiartx,driver>=535,driver<536 brand=vapps,driver>=535,driver<536 brand=vpc,driver>=535,driver<536 brand=vcs,driver>=535,driver<536 brand=vws,driver>=535,driver<536 brand=cloudgaming,driver>=535,driver<536 brand=unknown,driver>=550,driver<551 brand=grid,driver>=550,driver<551 brand=tesla,driver>=550,driver<551 brand=nvidia,driver>=550,driver<551 brand=quadro,driver>=550,driver<551 brand=quadrortx,driver>=550,driver<551 brand=nvidiartx,driver>=550,driver<551 brand=vapps,driver>=550,driver<551 brand=vpc,driver>=550,driver<551 brand=vcs,driver>=550,driver<551 brand=vws,driver>=550,driver<551 brand=cloudgaming,driver>=550,driver<551',\n",
              "        'NV_LIBCUBLAS_DEV_PACKAGE': 'libcublas-dev-12-5=12.5.3.2-1',\n",
              "        'NV_NVTX_VERSION': '12.5.82-1',\n",
              "        'COLAB_JUPYTER_IP': '172.28.0.12',\n",
              "        'NV_CUDA_CUDART_DEV_VERSION': '12.5.82-1',\n",
              "        'NV_LIBCUSPARSE_VERSION': '12.5.1.3-1',\n",
              "        'COLAB_LANGUAGE_SERVER_PROXY_ROOT_URL': 'http://172.28.0.1:8013/',\n",
              "        'NV_LIBNPP_VERSION': '12.3.0.159-1',\n",
              "        'NCCL_VERSION': '2.22.3-1',\n",
              "        'KMP_LISTEN_PORT': '6000',\n",
              "        'TF_FORCE_GPU_ALLOW_GROWTH': 'true',\n",
              "        'ENV': '/root/.bashrc',\n",
              "        'PWD': '/',\n",
              "        'COLAB_LANGUAGE_SERVER_PROXY_REQUEST_TIMEOUT': '30s',\n",
              "        'TBE_EPHEM_CREDS_ADDR': '172.28.0.1:8009',\n",
              "        'TBE_CREDS_ADDR': '172.28.0.1:8008',\n",
              "        'NV_CUDNN_PACKAGE': 'libcudnn9-cuda-12=9.2.1.18-1',\n",
              "        'NVIDIA_DRIVER_CAPABILITIES': 'compute,utility',\n",
              "        'COLAB_JUPYTER_TOKEN': '',\n",
              "        'LAST_FORCED_REBUILD': '20250509',\n",
              "        'NV_NVPROF_DEV_PACKAGE': 'cuda-nvprof-12-5=12.5.82-1',\n",
              "        'NV_LIBNPP_PACKAGE': 'libnpp-12-5=12.3.0.159-1',\n",
              "        'NV_LIBNCCL_DEV_PACKAGE_NAME': 'libnccl-dev',\n",
              "        'TCLLIBPATH': '/usr/share/tcltk/tcllib1.20',\n",
              "        'NV_LIBCUBLAS_DEV_VERSION': '12.5.3.2-1',\n",
              "        'NVIDIA_PRODUCT_NAME': 'CUDA',\n",
              "        'COLAB_KERNEL_MANAGER_PROXY_HOST': '172.28.0.12',\n",
              "        'UV_BUILD_CONSTRAINT': '',\n",
              "        'NV_LIBCUBLAS_DEV_PACKAGE_NAME': 'libcublas-dev-12-5',\n",
              "        'NV_CUDA_CUDART_VERSION': '12.5.82-1',\n",
              "        'COLAB_WARMUP_DEFAULTS': '1',\n",
              "        'HOME': '/root',\n",
              "        'LANG': 'en_US.UTF-8',\n",
              "        'CUDA_VERSION': '12.5.1',\n",
              "        'CLOUDSDK_CONFIG': '/content/.config',\n",
              "        'NV_LIBCUBLAS_PACKAGE': 'libcublas-12-5=12.5.3.2-1',\n",
              "        'NV_CUDA_NSIGHT_COMPUTE_DEV_PACKAGE': 'cuda-nsight-compute-12-5=12.5.1-1',\n",
              "        'UV_SYSTEM_PYTHON': 'true',\n",
              "        'COLAB_RELEASE_TAG': 'release-colab_20250514-060044_RC00',\n",
              "        'KMP_TARGET_PORT': '9000',\n",
              "        'KMP_EXTRA_ARGS': '--logtostderr --listen_host=172.28.0.12 --target_host=172.28.0.12 --tunnel_background_save_url=https://colab.research.google.com/tun/m/cc48301118ce562b961b3c22d803539adc1e0c19/m-s-pazjqwg9g6hz --tunnel_background_save_delay=10s --tunnel_periodic_background_save_frequency=30m0s --enable_output_coalescing=true --output_coalescing_required=true ',\n",
              "        'UV_INSTALL_DIR': '/usr/local/bin',\n",
              "        'NV_LIBNPP_DEV_PACKAGE': 'libnpp-dev-12-5=12.3.0.159-1',\n",
              "        'COLAB_LANGUAGE_SERVER_PROXY_LSP_DIRS': '/datalab/web/pyright/typeshed-fallback/stdlib,/usr/local/lib/python3.10/dist-packages',\n",
              "        'NV_LIBCUBLAS_PACKAGE_NAME': 'libcublas-12-5',\n",
              "        'COLAB_KERNEL_MANAGER_PROXY_PORT': '6000',\n",
              "        'CLOUDSDK_PYTHON': 'python3',\n",
              "        'NV_LIBNPP_DEV_VERSION': '12.3.0.159-1',\n",
              "        'NO_GCE_CHECK': 'False',\n",
              "        'PYTHONPATH': '/env/python',\n",
              "        'NV_LIBCUSPARSE_DEV_VERSION': '12.5.1.3-1',\n",
              "        'LIBRARY_PATH': '/usr/local/cuda/lib64/stubs',\n",
              "        'NV_CUDNN_VERSION': '9.2.1.18-1',\n",
              "        'SHLVL': '0',\n",
              "        'NV_CUDA_LIB_VERSION': '12.5.1-1',\n",
              "        'COLAB_LANGUAGE_SERVER_PROXY': '/usr/colab/bin/language_service',\n",
              "        'NVARCH': 'x86_64',\n",
              "        'UV_CONSTRAINT': '',\n",
              "        'PYTHONUTF8': '1',\n",
              "        'NV_CUDNN_PACKAGE_DEV': 'libcudnn9-dev-cuda-12=9.2.1.18-1',\n",
              "        'NV_LIBNCCL_PACKAGE': 'libnccl2=2.22.3-1+cuda12.5',\n",
              "        'LD_LIBRARY_PATH': '/usr/local/nvidia/lib:/usr/local/nvidia/lib64',\n",
              "        'COLAB_GPU': '',\n",
              "        'NV_CUDA_NSIGHT_COMPUTE_VERSION': '12.5.1-1',\n",
              "        'GCS_READ_CACHE_BLOCK_SIZE_MB': '16',\n",
              "        'NV_NVPROF_VERSION': '12.5.82-1',\n",
              "        'LC_ALL': 'en_US.UTF-8',\n",
              "        'COLAB_FILE_HANDLER_ADDR': 'localhost:3453',\n",
              "        'PATH': '/opt/bin:/usr/local/nvidia/bin:/usr/local/cuda/bin:/usr/local/sbin:/usr/local/bin:/usr/sbin:/usr/bin:/sbin:/bin:/tools/node/bin:/tools/google-cloud-sdk/bin',\n",
              "        'NV_LIBNCCL_PACKAGE_NAME': 'libnccl2',\n",
              "        'COLAB_DEBUG_ADAPTER_MUX_PATH': '/usr/local/bin/dap_multiplexer',\n",
              "        'NV_LIBNCCL_PACKAGE_VERSION': '2.22.3-1',\n",
              "        'PYTHONWARNINGS': 'ignore:::pip._internal.cli.base_command',\n",
              "        'MODEL_PROXY_BASE_URL': 'https://mp.kaggle.net/models/openapi',\n",
              "        'DEBIAN_FRONTEND': 'noninteractive',\n",
              "        'COLAB_BACKEND_VERSION': 'next',\n",
              "        'OLDPWD': '/',\n",
              "        '_PYVIZ_COMMS_INSTALLED': '1',\n",
              "        'PYDEVD_USE_FRAME_EVAL': 'NO',\n",
              "        'JPY_PARENT_PID': '92',\n",
              "        'TERM': 'xterm-color',\n",
              "        'CLICOLOR': '1',\n",
              "        'PAGER': 'cat',\n",
              "        'GIT_PAGER': 'cat',\n",
              "        'MPLBACKEND': 'module://matplotlib_inline.backend_inline',\n",
              "        'ENABLE_DIRECTORYPREFETCHER': '1',\n",
              "        'USE_AUTH_EPHEM': '1'}"
            ]
          },
          "metadata": {},
          "execution_count": 127
        }
      ]
    },
    {
      "cell_type": "code",
      "source": [],
      "metadata": {
        "id": "8AQGPnOpfNoV"
      },
      "execution_count": null,
      "outputs": []
    },
    {
      "cell_type": "markdown",
      "source": [
        "수요일에 지금까지 배운 내용을 다 가지고 더미 파이썬 파일을 출력하고, 던졌다가 sleep으로 쉬고 다시 던지고 쉬는 것을 반복. ~~"
      ],
      "metadata": {
        "id": "u7IXIoaefoo9"
      }
    },
    {
      "cell_type": "code",
      "source": [],
      "metadata": {
        "id": "WUT4dnnXf25y"
      },
      "execution_count": null,
      "outputs": []
    }
  ]
}